{
  "cells": [
    {
      "cell_type": "markdown",
      "metadata": {
        "id": "view-in-github",
        "colab_type": "text"
      },
      "source": [
        "<a href=\"https://colab.research.google.com/github/ramrajv/NeuralNetworks/blob/main/House_Price_Keras.ipynb\" target=\"_parent\"><img src=\"https://colab.research.google.com/assets/colab-badge.svg\" alt=\"Open In Colab\"/></a>"
      ]
    },
    {
      "cell_type": "code",
      "execution_count": 1,
      "id": "bbcde453-fbc3-4b80-a663-01212599fa9c",
      "metadata": {
        "id": "bbcde453-fbc3-4b80-a663-01212599fa9c"
      },
      "outputs": [],
      "source": [
        "import pandas as pd\n",
        "import numpy as np\n",
        "from sklearn.preprocessing import StandardScaler\n",
        "from sklearn.metrics import accuracy_score"
      ]
    },
    {
      "cell_type": "markdown",
      "id": "173476da-ac46-435c-81bb-858825c1908d",
      "metadata": {
        "id": "173476da-ac46-435c-81bb-858825c1908d"
      },
      "source": [
        "## Part 1: Import the Housing data and do feature transformations"
      ]
    },
    {
      "cell_type": "code",
      "execution_count": 2,
      "id": "999b20bb-ff06-47ce-9824-3431ade3d628",
      "metadata": {
        "id": "999b20bb-ff06-47ce-9824-3431ade3d628",
        "outputId": "8bb74ff6-3dce-4563-943f-1f0e4e986bb2",
        "colab": {
          "base_uri": "https://localhost:8080/",
          "height": 206
        }
      },
      "outputs": [
        {
          "output_type": "execute_result",
          "data": {
            "text/plain": [
              "   bedrooms  sqft_living    price\n",
              "0         3         1340   313000\n",
              "1         5         3650  2384000\n",
              "2         3         1930   342000\n",
              "3         3         2000   420000\n",
              "4         4         1940   550000"
            ],
            "text/html": [
              "\n",
              "  <div id=\"df-1264592d-9d77-4d44-a282-910bd53ef06b\">\n",
              "    <div class=\"colab-df-container\">\n",
              "      <div>\n",
              "<style scoped>\n",
              "    .dataframe tbody tr th:only-of-type {\n",
              "        vertical-align: middle;\n",
              "    }\n",
              "\n",
              "    .dataframe tbody tr th {\n",
              "        vertical-align: top;\n",
              "    }\n",
              "\n",
              "    .dataframe thead th {\n",
              "        text-align: right;\n",
              "    }\n",
              "</style>\n",
              "<table border=\"1\" class=\"dataframe\">\n",
              "  <thead>\n",
              "    <tr style=\"text-align: right;\">\n",
              "      <th></th>\n",
              "      <th>bedrooms</th>\n",
              "      <th>sqft_living</th>\n",
              "      <th>price</th>\n",
              "    </tr>\n",
              "  </thead>\n",
              "  <tbody>\n",
              "    <tr>\n",
              "      <th>0</th>\n",
              "      <td>3</td>\n",
              "      <td>1340</td>\n",
              "      <td>313000</td>\n",
              "    </tr>\n",
              "    <tr>\n",
              "      <th>1</th>\n",
              "      <td>5</td>\n",
              "      <td>3650</td>\n",
              "      <td>2384000</td>\n",
              "    </tr>\n",
              "    <tr>\n",
              "      <th>2</th>\n",
              "      <td>3</td>\n",
              "      <td>1930</td>\n",
              "      <td>342000</td>\n",
              "    </tr>\n",
              "    <tr>\n",
              "      <th>3</th>\n",
              "      <td>3</td>\n",
              "      <td>2000</td>\n",
              "      <td>420000</td>\n",
              "    </tr>\n",
              "    <tr>\n",
              "      <th>4</th>\n",
              "      <td>4</td>\n",
              "      <td>1940</td>\n",
              "      <td>550000</td>\n",
              "    </tr>\n",
              "  </tbody>\n",
              "</table>\n",
              "</div>\n",
              "      <button class=\"colab-df-convert\" onclick=\"convertToInteractive('df-1264592d-9d77-4d44-a282-910bd53ef06b')\"\n",
              "              title=\"Convert this dataframe to an interactive table.\"\n",
              "              style=\"display:none;\">\n",
              "        \n",
              "  <svg xmlns=\"http://www.w3.org/2000/svg\" height=\"24px\"viewBox=\"0 0 24 24\"\n",
              "       width=\"24px\">\n",
              "    <path d=\"M0 0h24v24H0V0z\" fill=\"none\"/>\n",
              "    <path d=\"M18.56 5.44l.94 2.06.94-2.06 2.06-.94-2.06-.94-.94-2.06-.94 2.06-2.06.94zm-11 1L8.5 8.5l.94-2.06 2.06-.94-2.06-.94L8.5 2.5l-.94 2.06-2.06.94zm10 10l.94 2.06.94-2.06 2.06-.94-2.06-.94-.94-2.06-.94 2.06-2.06.94z\"/><path d=\"M17.41 7.96l-1.37-1.37c-.4-.4-.92-.59-1.43-.59-.52 0-1.04.2-1.43.59L10.3 9.45l-7.72 7.72c-.78.78-.78 2.05 0 2.83L4 21.41c.39.39.9.59 1.41.59.51 0 1.02-.2 1.41-.59l7.78-7.78 2.81-2.81c.8-.78.8-2.07 0-2.86zM5.41 20L4 18.59l7.72-7.72 1.47 1.35L5.41 20z\"/>\n",
              "  </svg>\n",
              "      </button>\n",
              "      \n",
              "  <style>\n",
              "    .colab-df-container {\n",
              "      display:flex;\n",
              "      flex-wrap:wrap;\n",
              "      gap: 12px;\n",
              "    }\n",
              "\n",
              "    .colab-df-convert {\n",
              "      background-color: #E8F0FE;\n",
              "      border: none;\n",
              "      border-radius: 50%;\n",
              "      cursor: pointer;\n",
              "      display: none;\n",
              "      fill: #1967D2;\n",
              "      height: 32px;\n",
              "      padding: 0 0 0 0;\n",
              "      width: 32px;\n",
              "    }\n",
              "\n",
              "    .colab-df-convert:hover {\n",
              "      background-color: #E2EBFA;\n",
              "      box-shadow: 0px 1px 2px rgba(60, 64, 67, 0.3), 0px 1px 3px 1px rgba(60, 64, 67, 0.15);\n",
              "      fill: #174EA6;\n",
              "    }\n",
              "\n",
              "    [theme=dark] .colab-df-convert {\n",
              "      background-color: #3B4455;\n",
              "      fill: #D2E3FC;\n",
              "    }\n",
              "\n",
              "    [theme=dark] .colab-df-convert:hover {\n",
              "      background-color: #434B5C;\n",
              "      box-shadow: 0px 1px 3px 1px rgba(0, 0, 0, 0.15);\n",
              "      filter: drop-shadow(0px 1px 2px rgba(0, 0, 0, 0.3));\n",
              "      fill: #FFFFFF;\n",
              "    }\n",
              "  </style>\n",
              "\n",
              "      <script>\n",
              "        const buttonEl =\n",
              "          document.querySelector('#df-1264592d-9d77-4d44-a282-910bd53ef06b button.colab-df-convert');\n",
              "        buttonEl.style.display =\n",
              "          google.colab.kernel.accessAllowed ? 'block' : 'none';\n",
              "\n",
              "        async function convertToInteractive(key) {\n",
              "          const element = document.querySelector('#df-1264592d-9d77-4d44-a282-910bd53ef06b');\n",
              "          const dataTable =\n",
              "            await google.colab.kernel.invokeFunction('convertToInteractive',\n",
              "                                                     [key], {});\n",
              "          if (!dataTable) return;\n",
              "\n",
              "          const docLinkHtml = 'Like what you see? Visit the ' +\n",
              "            '<a target=\"_blank\" href=https://colab.research.google.com/notebooks/data_table.ipynb>data table notebook</a>'\n",
              "            + ' to learn more about interactive tables.';\n",
              "          element.innerHTML = '';\n",
              "          dataTable['output_type'] = 'display_data';\n",
              "          await google.colab.output.renderOutput(dataTable, element);\n",
              "          const docLink = document.createElement('div');\n",
              "          docLink.innerHTML = docLinkHtml;\n",
              "          element.appendChild(docLink);\n",
              "        }\n",
              "      </script>\n",
              "    </div>\n",
              "  </div>\n",
              "  "
            ]
          },
          "metadata": {},
          "execution_count": 2
        }
      ],
      "source": [
        "url = 'https://raw.githubusercontent.com/ramrajv/NeuralNetworks/main/house_price_full.csv'\n",
        "df= pd.read_csv(url)\n",
        "df.head()"
      ]
    },
    {
      "cell_type": "code",
      "execution_count": 3,
      "id": "9ac1d055-4622-4fc9-a2a3-d463bcf8befd",
      "metadata": {
        "id": "9ac1d055-4622-4fc9-a2a3-d463bcf8befd"
      },
      "outputs": [],
      "source": [
        "X = df.copy()\n",
        "# Remove target\n",
        "Y = X.pop('price')\n",
        "\n",
        "# perform a scaler transform of the input data\n",
        "scaler = StandardScaler()\n",
        "X = scaler.fit_transform(X)\n",
        "\n",
        "# perform log transformation of target variable (For Sandeep: Is this needed?)\n",
        "Y = np.log(Y)"
      ]
    },
    {
      "cell_type": "code",
      "execution_count": 4,
      "id": "82b4c4a9-00c6-42d5-aede-b01c0faeb61a",
      "metadata": {
        "id": "82b4c4a9-00c6-42d5-aede-b01c0faeb61a",
        "outputId": "c28f2553-d3cf-48fb-c97f-f6f18ca927d1",
        "colab": {
          "base_uri": "https://localhost:8080/",
          "height": 424
        }
      },
      "outputs": [
        {
          "output_type": "execute_result",
          "data": {
            "text/plain": [
              "            0         1\n",
              "0   -0.433198 -0.753258\n",
              "1    1.675735  1.457330\n",
              "2   -0.433198 -0.188649\n",
              "3   -0.433198 -0.121661\n",
              "4    0.621269 -0.179079\n",
              "..        ...       ...\n",
              "494  0.621269  0.873582\n",
              "495  1.675735  2.299459\n",
              "496 -0.433198 -0.724549\n",
              "497 -0.433198 -0.179079\n",
              "498 -0.433198 -1.040347\n",
              "\n",
              "[499 rows x 2 columns]"
            ],
            "text/html": [
              "\n",
              "  <div id=\"df-42273e4d-9207-4a59-aaaf-3fc073fff11e\">\n",
              "    <div class=\"colab-df-container\">\n",
              "      <div>\n",
              "<style scoped>\n",
              "    .dataframe tbody tr th:only-of-type {\n",
              "        vertical-align: middle;\n",
              "    }\n",
              "\n",
              "    .dataframe tbody tr th {\n",
              "        vertical-align: top;\n",
              "    }\n",
              "\n",
              "    .dataframe thead th {\n",
              "        text-align: right;\n",
              "    }\n",
              "</style>\n",
              "<table border=\"1\" class=\"dataframe\">\n",
              "  <thead>\n",
              "    <tr style=\"text-align: right;\">\n",
              "      <th></th>\n",
              "      <th>0</th>\n",
              "      <th>1</th>\n",
              "    </tr>\n",
              "  </thead>\n",
              "  <tbody>\n",
              "    <tr>\n",
              "      <th>0</th>\n",
              "      <td>-0.433198</td>\n",
              "      <td>-0.753258</td>\n",
              "    </tr>\n",
              "    <tr>\n",
              "      <th>1</th>\n",
              "      <td>1.675735</td>\n",
              "      <td>1.457330</td>\n",
              "    </tr>\n",
              "    <tr>\n",
              "      <th>2</th>\n",
              "      <td>-0.433198</td>\n",
              "      <td>-0.188649</td>\n",
              "    </tr>\n",
              "    <tr>\n",
              "      <th>3</th>\n",
              "      <td>-0.433198</td>\n",
              "      <td>-0.121661</td>\n",
              "    </tr>\n",
              "    <tr>\n",
              "      <th>4</th>\n",
              "      <td>0.621269</td>\n",
              "      <td>-0.179079</td>\n",
              "    </tr>\n",
              "    <tr>\n",
              "      <th>...</th>\n",
              "      <td>...</td>\n",
              "      <td>...</td>\n",
              "    </tr>\n",
              "    <tr>\n",
              "      <th>494</th>\n",
              "      <td>0.621269</td>\n",
              "      <td>0.873582</td>\n",
              "    </tr>\n",
              "    <tr>\n",
              "      <th>495</th>\n",
              "      <td>1.675735</td>\n",
              "      <td>2.299459</td>\n",
              "    </tr>\n",
              "    <tr>\n",
              "      <th>496</th>\n",
              "      <td>-0.433198</td>\n",
              "      <td>-0.724549</td>\n",
              "    </tr>\n",
              "    <tr>\n",
              "      <th>497</th>\n",
              "      <td>-0.433198</td>\n",
              "      <td>-0.179079</td>\n",
              "    </tr>\n",
              "    <tr>\n",
              "      <th>498</th>\n",
              "      <td>-0.433198</td>\n",
              "      <td>-1.040347</td>\n",
              "    </tr>\n",
              "  </tbody>\n",
              "</table>\n",
              "<p>499 rows × 2 columns</p>\n",
              "</div>\n",
              "      <button class=\"colab-df-convert\" onclick=\"convertToInteractive('df-42273e4d-9207-4a59-aaaf-3fc073fff11e')\"\n",
              "              title=\"Convert this dataframe to an interactive table.\"\n",
              "              style=\"display:none;\">\n",
              "        \n",
              "  <svg xmlns=\"http://www.w3.org/2000/svg\" height=\"24px\"viewBox=\"0 0 24 24\"\n",
              "       width=\"24px\">\n",
              "    <path d=\"M0 0h24v24H0V0z\" fill=\"none\"/>\n",
              "    <path d=\"M18.56 5.44l.94 2.06.94-2.06 2.06-.94-2.06-.94-.94-2.06-.94 2.06-2.06.94zm-11 1L8.5 8.5l.94-2.06 2.06-.94-2.06-.94L8.5 2.5l-.94 2.06-2.06.94zm10 10l.94 2.06.94-2.06 2.06-.94-2.06-.94-.94-2.06-.94 2.06-2.06.94z\"/><path d=\"M17.41 7.96l-1.37-1.37c-.4-.4-.92-.59-1.43-.59-.52 0-1.04.2-1.43.59L10.3 9.45l-7.72 7.72c-.78.78-.78 2.05 0 2.83L4 21.41c.39.39.9.59 1.41.59.51 0 1.02-.2 1.41-.59l7.78-7.78 2.81-2.81c.8-.78.8-2.07 0-2.86zM5.41 20L4 18.59l7.72-7.72 1.47 1.35L5.41 20z\"/>\n",
              "  </svg>\n",
              "      </button>\n",
              "      \n",
              "  <style>\n",
              "    .colab-df-container {\n",
              "      display:flex;\n",
              "      flex-wrap:wrap;\n",
              "      gap: 12px;\n",
              "    }\n",
              "\n",
              "    .colab-df-convert {\n",
              "      background-color: #E8F0FE;\n",
              "      border: none;\n",
              "      border-radius: 50%;\n",
              "      cursor: pointer;\n",
              "      display: none;\n",
              "      fill: #1967D2;\n",
              "      height: 32px;\n",
              "      padding: 0 0 0 0;\n",
              "      width: 32px;\n",
              "    }\n",
              "\n",
              "    .colab-df-convert:hover {\n",
              "      background-color: #E2EBFA;\n",
              "      box-shadow: 0px 1px 2px rgba(60, 64, 67, 0.3), 0px 1px 3px 1px rgba(60, 64, 67, 0.15);\n",
              "      fill: #174EA6;\n",
              "    }\n",
              "\n",
              "    [theme=dark] .colab-df-convert {\n",
              "      background-color: #3B4455;\n",
              "      fill: #D2E3FC;\n",
              "    }\n",
              "\n",
              "    [theme=dark] .colab-df-convert:hover {\n",
              "      background-color: #434B5C;\n",
              "      box-shadow: 0px 1px 3px 1px rgba(0, 0, 0, 0.15);\n",
              "      filter: drop-shadow(0px 1px 2px rgba(0, 0, 0, 0.3));\n",
              "      fill: #FFFFFF;\n",
              "    }\n",
              "  </style>\n",
              "\n",
              "      <script>\n",
              "        const buttonEl =\n",
              "          document.querySelector('#df-42273e4d-9207-4a59-aaaf-3fc073fff11e button.colab-df-convert');\n",
              "        buttonEl.style.display =\n",
              "          google.colab.kernel.accessAllowed ? 'block' : 'none';\n",
              "\n",
              "        async function convertToInteractive(key) {\n",
              "          const element = document.querySelector('#df-42273e4d-9207-4a59-aaaf-3fc073fff11e');\n",
              "          const dataTable =\n",
              "            await google.colab.kernel.invokeFunction('convertToInteractive',\n",
              "                                                     [key], {});\n",
              "          if (!dataTable) return;\n",
              "\n",
              "          const docLinkHtml = 'Like what you see? Visit the ' +\n",
              "            '<a target=\"_blank\" href=https://colab.research.google.com/notebooks/data_table.ipynb>data table notebook</a>'\n",
              "            + ' to learn more about interactive tables.';\n",
              "          element.innerHTML = '';\n",
              "          dataTable['output_type'] = 'display_data';\n",
              "          await google.colab.output.renderOutput(dataTable, element);\n",
              "          const docLink = document.createElement('div');\n",
              "          docLink.innerHTML = docLinkHtml;\n",
              "          element.appendChild(docLink);\n",
              "        }\n",
              "      </script>\n",
              "    </div>\n",
              "  </div>\n",
              "  "
            ]
          },
          "metadata": {},
          "execution_count": 4
        }
      ],
      "source": [
        "df_scaled = pd.DataFrame(X)\n",
        "df_scaled"
      ]
    },
    {
      "cell_type": "code",
      "execution_count": 5,
      "id": "8034fbca-2081-4de3-9fd3-8e5d379b2cbf",
      "metadata": {
        "id": "8034fbca-2081-4de3-9fd3-8e5d379b2cbf",
        "outputId": "077ef34f-38a5-4d03-97e4-282ccd31dafa",
        "colab": {
          "base_uri": "https://localhost:8080/"
        }
      },
      "outputs": [
        {
          "output_type": "execute_result",
          "data": {
            "text/plain": [
              "0      12.653958\n",
              "1      14.684290\n",
              "2      12.742566\n",
              "3      12.948010\n",
              "4      13.217674\n",
              "         ...    \n",
              "494    13.380102\n",
              "495    13.764217\n",
              "496    12.128111\n",
              "497    12.721886\n",
              "498    12.254863\n",
              "Name: price, Length: 499, dtype: float64"
            ]
          },
          "metadata": {},
          "execution_count": 5
        }
      ],
      "source": [
        "Y"
      ]
    },
    {
      "cell_type": "markdown",
      "id": "754adc57-4f6c-4b96-a348-77bd82a4b304",
      "metadata": {
        "id": "754adc57-4f6c-4b96-a348-77bd82a4b304"
      },
      "source": [
        "## Part 2: Create Model Using `keras`\n",
        "\n",
        "![](multiple_neurons.png)"
      ]
    },
    {
      "cell_type": "code",
      "execution_count": 6,
      "id": "9e7e3de3-c446-4fbe-be67-08c1431450d5",
      "metadata": {
        "id": "9e7e3de3-c446-4fbe-be67-08c1431450d5"
      },
      "outputs": [],
      "source": [
        "from tensorflow import keras"
      ]
    },
    {
      "cell_type": "code",
      "execution_count": 15,
      "id": "7bf2231d-a13c-4e82-aae9-597b3caae6c0",
      "metadata": {
        "id": "7bf2231d-a13c-4e82-aae9-597b3caae6c0",
        "colab": {
          "base_uri": "https://localhost:8080/"
        },
        "outputId": "4ed741b1-edc2-490e-9608-68ea8851cc95"
      },
      "outputs": [
        {
          "output_type": "stream",
          "name": "stdout",
          "text": [
            "Model: \"sequential_2\"\n",
            "_________________________________________________________________\n",
            " Layer (type)                Output Shape              Param #   \n",
            "=================================================================\n",
            " dense_4 (Dense)             (None, 2)                 6         \n",
            "                                                                 \n",
            " dense_5 (Dense)             (None, 1)                 3         \n",
            "                                                                 \n",
            "=================================================================\n",
            "Total params: 9\n",
            "Trainable params: 9\n",
            "Non-trainable params: 0\n",
            "_________________________________________________________________\n"
          ]
        }
      ],
      "source": [
        "model = keras.Sequential(\n",
        "    [\n",
        "        keras.layers.Dense(\n",
        "            2, activation=\"sigmoid\", input_shape=(X.shape[-1],)\n",
        "        ),\n",
        "        keras.layers.Dense(1, activation=\"linear\")\n",
        "    ]\n",
        ")\n",
        "model.summary()"
      ]
    },
    {
      "cell_type": "markdown",
      "id": "304a97ac-488e-44cf-b86b-b6f44dc81d72",
      "metadata": {
        "id": "304a97ac-488e-44cf-b86b-b6f44dc81d72"
      },
      "source": [
        "```python\n",
        "def random_init_params():\n",
        "    w1 = tf.Variable(tf.random.uniform((2, 2)))\n",
        "    b1 = tf.Variable(tf.random.uniform((1, 2)))\n",
        "    w2 = tf.Variable(tf.random.uniform((2, 1)))\n",
        "    b2 = tf.Variable(tf.random.uniform((1, 1)))\n",
        "    return w1,b1,w2,b2\n",
        "\n",
        "\n",
        "def forward_prop(x, w1, b1, w2, b2):\n",
        "    z1 = tf.matmul(x,w1) + b1\n",
        "    h1 = tf.math.sigmoid(z1)\n",
        "    z2 = tf.matmul(h1,w2) + b2\n",
        "    h2 = z2\n",
        "    return h2\n",
        "```"
      ]
    },
    {
      "cell_type": "code",
      "execution_count": 16,
      "id": "867ac40d-01c2-4f93-8977-1a3a1b37b320",
      "metadata": {
        "id": "867ac40d-01c2-4f93-8977-1a3a1b37b320"
      },
      "outputs": [],
      "source": [
        "model.compile(\n",
        "    optimizer=keras.optimizers.SGD(), loss=\"mean_squared_error\"\n",
        ")"
      ]
    },
    {
      "cell_type": "markdown",
      "id": "78a51db7-4b84-4338-9745-ece25b503892",
      "metadata": {
        "id": "78a51db7-4b84-4338-9745-ece25b503892"
      },
      "source": [
        "```python\n",
        "def train(x, y, w1, b1, w2, b2):\n",
        "    y_true = y\n",
        "    with tf.GradientTape() as g:\n",
        "        y_pred = forward_prop(x, w1, b1, w2, b2)\n",
        "\n",
        "        # loss\n",
        "        loss = 0.5*(y_true - y_pred)** 2\n",
        "    \n",
        "    #Gradient calculation  \n",
        "    print(\"**************************************************\")\n",
        "    print(\"GRADIENTS\")\n",
        "    print(\"**************************************************\")\n",
        "    gw1, gb1, gw2, gb2 = g.gradient(loss, [w1, b1, w2, b2])\n",
        "    print(\" the gradient for 1st layer weights are:\\n\",gw1.numpy())\n",
        "    print(\"--------------------------------------------------\")\n",
        "    print(\" the gradient for 2nd layer weights are:\\n\",gw2.numpy())\n",
        "    print(\"--------------------------------------------------\")\n",
        "    print(\" the gradient for 1st layer bias are:\\n\",gb1.numpy())\n",
        "    print(\"--------------------------------------------------\")\n",
        "    print(\" the gradient for 2nd layer bias are:\\n\",gb2.numpy())\n",
        "    print(\"--------------------------------------------------\")\n",
        "\n",
        "    # Gradient descent:\n",
        "    lr=0.2\n",
        "    w1.assign_sub(lr*gw1)\n",
        "    b1.assign_sub(lr*gb1) \n",
        "    w2.assign_sub(lr*gw2)\n",
        "    b2.assign_sub(lr*gb2)\n",
        "    print(\"**************************************************\")\n",
        "    print(\"NEW UPDATES\")\n",
        "    print(\"**************************************************\")\n",
        "    print(\" the updated 1st layer weights are:\\n\",w1.numpy())\n",
        "    print(\"--------------------------------------------------\")\n",
        "    print(\" the updated 2nd layer weights are:\\n\",w2.numpy())\n",
        "    print(\"--------------------------------------------------\")\n",
        "    print(\" the updated 1st layer bias are:\\n\",b1.numpy())\n",
        "    print(\"--------------------------------------------------\")\n",
        "    print(\" the updated 2nd layer bias are:\\n\",b2.numpy())\n",
        "\n",
        "\n",
        "    return w1, b1, w2, b2,loss\n",
        "\n",
        "```"
      ]
    },
    {
      "cell_type": "code",
      "execution_count": 17,
      "id": "72ab0367-85da-46b9-bce9-4da2c72dfaa7",
      "metadata": {
        "id": "72ab0367-85da-46b9-bce9-4da2c72dfaa7",
        "outputId": "1edd4015-60cb-41e9-a19b-86fa499dcf76",
        "colab": {
          "base_uri": "https://localhost:8080/"
        }
      },
      "outputs": [
        {
          "output_type": "stream",
          "name": "stdout",
          "text": [
            "Epoch 1/10\n",
            "16/16 [==============================] - 0s 2ms/step - loss: 106.9720\n",
            "Epoch 2/10\n",
            "16/16 [==============================] - 0s 2ms/step - loss: 28.7099\n",
            "Epoch 3/10\n",
            "16/16 [==============================] - 0s 2ms/step - loss: 6.3215\n",
            "Epoch 4/10\n",
            "16/16 [==============================] - 0s 2ms/step - loss: 1.5509\n",
            "Epoch 5/10\n",
            "16/16 [==============================] - 0s 2ms/step - loss: 0.6424\n",
            "Epoch 6/10\n",
            "16/16 [==============================] - 0s 2ms/step - loss: 0.4617\n",
            "Epoch 7/10\n",
            "16/16 [==============================] - 0s 3ms/step - loss: 0.4053\n",
            "Epoch 8/10\n",
            "16/16 [==============================] - 0s 2ms/step - loss: 0.3737\n",
            "Epoch 9/10\n",
            "16/16 [==============================] - 0s 2ms/step - loss: 0.3513\n",
            "Epoch 10/10\n",
            "16/16 [==============================] - 0s 2ms/step - loss: 0.3318\n"
          ]
        },
        {
          "output_type": "execute_result",
          "data": {
            "text/plain": [
              "<keras.callbacks.History at 0x7fdf56bc6110>"
            ]
          },
          "metadata": {},
          "execution_count": 17
        }
      ],
      "source": [
        "model.fit(X,Y.values,epochs=10,batch_size=32)"
      ]
    },
    {
      "cell_type": "code",
      "execution_count": 18,
      "id": "ac6189a0-f5a7-48e3-9bbd-03f219c6ab2c",
      "metadata": {
        "id": "ac6189a0-f5a7-48e3-9bbd-03f219c6ab2c",
        "outputId": "6bca2701-5357-40e5-ee57-cc9f1937b6a1",
        "colab": {
          "base_uri": "https://localhost:8080/"
        }
      },
      "outputs": [
        {
          "output_type": "execute_result",
          "data": {
            "text/plain": [
              "array([13.078255 , 13.444735 , 12.982122 , 12.966969 , 13.323492 ,\n",
              "       12.727972 , 12.617831 , 13.249454 , 12.858988 , 13.322599 ,\n",
              "       13.024776 , 13.212172 , 12.8862   , 13.100668 , 13.499236 ,\n",
              "       13.092197 , 13.047789 , 13.172383 , 13.074809 , 13.093902 ,\n",
              "       12.909664 , 13.319717 , 13.017601 , 13.246212 , 13.324951 ,\n",
              "       12.946422 , 12.878159 , 13.309579 , 13.50041  , 12.810242 ,\n",
              "       13.323902 , 13.223553 , 13.326148 , 13.230818 , 13.036623 ,\n",
              "       12.607399 , 12.743956 , 12.998524 , 12.9757185, 12.87001  ,\n",
              "       13.046255 , 13.321047 , 12.734073 , 13.013914 , 12.653212 ,\n",
              "       13.095531 , 12.973553 , 12.982122 , 13.085667 , 13.124592 ,\n",
              "       13.249454 , 12.714853 , 12.77724  , 13.008263 , 13.479303 ,\n",
              "       13.324099 , 13.310322 , 13.443432 , 13.0804615, 12.542199 ,\n",
              "       13.124592 , 12.786343 , 13.246212 , 12.82778  , 13.212172 ,\n",
              "       12.723837 , 13.035044 , 13.105444 , 12.241455 , 12.919762 ,\n",
              "       13.2756405, 12.733851 , 13.303029 , 12.988389 , 13.079367 ,\n",
              "       12.638281 , 13.311759 , 13.246212 , 13.315058 , 12.842122 ,\n",
              "       13.321688 , 13.01871  , 12.280315 , 13.008263 , 13.297413 ,\n",
              "       12.404072 , 12.670155 , 13.060814 , 12.6021185, 12.655664 ,\n",
              "       13.48876  , 12.929647 , 13.597393 , 12.880852 , 13.049305 ,\n",
              "       13.500502 , 13.029984 , 13.493426 , 13.069967 , 13.388161 ,\n",
              "       13.156326 , 12.964744 , 13.079367 , 13.294377 , 13.443167 ,\n",
              "       13.2141075, 13.317941 , 12.803175 , 12.736078 , 13.306527 ,\n",
              "       13.316641 , 13.300296 , 13.103201 , 13.497197 , 13.32085  ,\n",
              "       13.326232 , 12.912208 , 12.742008 , 13.488169 , 13.031688 ,\n",
              "       13.322458 , 13.064842 , 11.794486 , 12.99249  , 12.99249  ,\n",
              "       13.069967 , 13.321047 , 12.670155 , 12.984227 , 13.2141075,\n",
              "       12.607399 , 13.050804 , 13.465755 , 12.372036 , 12.502612 ,\n",
              "       13.301224 , 13.008263 , 13.32085  , 13.010162 , 13.286709 ,\n",
              "       12.980003 , 12.665367 , 13.101215 , 12.77475  , 13.047636 ,\n",
              "       13.039949 , 13.070215 , 12.673023 , 13.282064 , 12.553328 ,\n",
              "       13.285545 , 13.319244 , 12.67959  , 13.077124 , 13.313128 ,\n",
              "       13.059436 , 12.966969 , 12.69565  , 12.759005 , 13.462859 ,\n",
              "       13.046255 , 13.315668 , 13.310985 , 13.03833  , 13.109132 ,\n",
              "       13.324885 , 13.322599 , 12.723837 , 13.103201 , 13.086655 ,\n",
              "       13.634182 , 13.302135 , 13.232594 , 13.035044 , 13.0366955,\n",
              "       12.998524 , 13.321278 , 13.069967 , 13.321856 , 12.850603 ,\n",
              "       13.105444 , 12.648275 , 13.298293 , 13.481484 , 13.285545 ,\n",
              "       13.174617 , 13.318467 , 12.998524 , 13.325869 , 13.003471 ,\n",
              "       13.068712 , 13.056627 , 12.936919 , 13.076744 , 13.03833  ,\n",
              "       13.010162 , 13.321278 , 13.304767 , 13.189821 , 13.081539 ,\n",
              "       12.959407 , 12.9973   , 13.495508 , 13.499236 , 12.695651 ,\n",
              "       12.533795 , 13.151606 , 13.254191 , 13.089507 , 13.244568 ,\n",
              "       13.106506 , 13.099291 , 13.438257 , 12.988389 , 12.717529 ,\n",
              "       13.028265 , 13.068712 , 13.276912 , 12.971373 , 12.662958 ,\n",
              "       12.919762 , 13.112421 , 13.060814 , 13.499596 , 12.783317 ,\n",
              "       13.054401 , 13.085667 , 13.282064 , 13.1876955, 13.094727 ,\n",
              "       13.466696 , 13.106455 , 13.287853 , 12.760452 , 13.087624 ,\n",
              "       13.052286 , 13.043137 , 13.099291 , 13.000504 , 12.833548 ,\n",
              "       12.786343 , 13.646021 , 13.290096 , 13.326569 , 12.951088 ,\n",
              "       13.015765 , 13.029984 , 12.564362 , 12.322248 , 13.326016 ,\n",
              "       13.071203 , 12.994516 , 13.651825 , 12.693392 , 12.774189 ,\n",
              "       13.105444 , 13.046255 , 13.266096 , 12.984227 , 12.880852 ,\n",
              "       12.151461 , 13.278217 , 12.607399 , 12.850603 , 12.700129 ,\n",
              "       12.740046 , 13.49214  , 13.013914 , 12.617831 , 12.9757185,\n",
              "       13.125856 , 12.277508 , 13.364876 , 13.300296 , 13.325905 ,\n",
              "       13.25878  , 13.324885 , 12.922253 , 12.96025  , 12.901955 ,\n",
              "       13.041552 , 12.751599 , 12.539403 , 13.03833  , 13.637127 ,\n",
              "       12.698864 , 12.980003 , 13.069967 , 13.10379  , 12.740046 ,\n",
              "       12.721747 , 13.694226 , 13.3110485, 13.043137 , 13.058041 ,\n",
              "       13.078255 , 12.996528 , 12.82778  , 12.693392 , 13.073626 ,\n",
              "       13.0366955, 13.496914 , 13.313788 , 13.015765 , 13.033374 ,\n",
              "       13.002466 , 13.308819 , 13.321459 , 13.086655 , 13.33495  ,\n",
              "       12.952955 , 12.667767 , 13.2578745, 13.491658 , 13.042187 ,\n",
              "       12.740046 , 12.567104 , 12.946422 , 13.4899   , 13.3266   ,\n",
              "       13.031688 , 13.272997 , 13.495508 , 13.087624 , 13.320407 ,\n",
              "       13.257267 , 12.706751 , 12.9757185, 12.759005 , 12.615233 ,\n",
              "       12.473867 , 13.314431 , 13.326263 , 12.377852 , 13.028265 ,\n",
              "       12.980003 , 13.299352 , 13.318467 , 13.098549 , 13.305611 ,\n",
              "       13.072424 , 12.688839 , 13.059436 , 13.281957 , 13.493063 ,\n",
              "       12.909664 , 12.984227 , 12.990447 , 13.305611 , 12.638281 ,\n",
              "       12.711102 , 13.129632 , 13.321278 , 12.697895 , 13.325869 ,\n",
              "       12.971373 , 13.635601 , 12.648275 , 13.303029 , 12.858988 ,\n",
              "       12.711666 , 13.303029 , 13.056627 , 13.108258 , 13.093059 ,\n",
              "       13.081539 , 13.500517 , 13.017601 , 13.0804615, 13.284367 ,\n",
              "       13.088573 , 13.086655 , 13.587359 , 12.978535 , 13.052286 ,\n",
              "       12.564362 , 13.063517 , 13.072424 , 12.798363 , 13.044704 ,\n",
              "       13.324377 , 12.963626 , 13.069967 , 12.677248 , 12.732054 ,\n",
              "       12.891501 , 12.697895 , 12.706751 , 12.841791 , 13.0366955,\n",
              "       12.981688 , 13.236096 , 13.326612 , 13.318754 , 12.998524 ,\n",
              "       12.711102 , 12.844959 , 13.000391 , 13.266096 , 13.072424 ,\n",
              "       13.304767 , 13.28317  , 12.742008 , 13.325905 , 12.685981 ,\n",
              "       12.759005 , 13.072424 , 13.065498 , 12.482523 , 12.944067 ,\n",
              "       13.102595 , 13.058041 , 13.322458 , 13.069967 , 13.0096   ,\n",
              "       13.310322 , 12.984227 , 13.095531 , 12.279725 , 13.321278 ,\n",
              "       13.312246 , 13.4645195, 13.227217 , 12.667767 , 13.174617 ,\n",
              "       13.068712 , 13.287853 , 13.323804 , 13.033374 , 13.071203 ,\n",
              "       13.257267 , 13.321278 , 13.314431 , 13.076895 , 13.017601 ,\n",
              "       13.486737 , 12.59947  , 13.323492 , 13.069967 , 13.075975 ,\n",
              "       13.090422 , 13.229025 , 12.991086 , 13.29839  , 12.501343 ,\n",
              "       13.32062  , 13.183397 , 13.104359 , 13.323804 , 13.012047 ,\n",
              "       12.966969 , 13.028265 , 13.071121 , 13.082598 , 13.291191 ,\n",
              "       12.667767 , 13.300296 , 13.246212 , 13.227217 , 12.697895 ,\n",
              "       13.078255 , 13.062695 , 12.316399 , 13.106058 , 13.494719 ,\n",
              "       12.936919 , 13.2769375, 13.323492 , 13.077124 , 13.312452 ,\n",
              "       13.074809 , 12.419821 , 13.229025 , 12.964744 , 13.127118 ,\n",
              "       12.648275 , 13.023006 , 12.220369 , 13.049305 , 12.821972 ,\n",
              "       12.673942 , 12.650749 , 13.444735 , 12.9271965, 13.274328 ,\n",
              "       12.721747 , 13.200216 , 13.315058 , 13.08502  , 13.494753 ,\n",
              "       12.919762 , 13.3266   , 12.711666 , 13.106455 , 13.1876955,\n",
              "       13.271702 , 13.074809 , 12.980003 , 13.10379  ], dtype=float32)"
            ]
          },
          "metadata": {},
          "execution_count": 18
        }
      ],
      "source": [
        "model.predict(X)[:,0]"
      ]
    },
    {
      "cell_type": "code",
      "execution_count": null,
      "id": "e70387c2-c04d-4ff1-8bc1-a13a064daf6a",
      "metadata": {
        "id": "e70387c2-c04d-4ff1-8bc1-a13a064daf6a"
      },
      "outputs": [],
      "source": [
        ""
      ]
    }
  ],
  "metadata": {
    "kernelspec": {
      "display_name": "Python 3 (ipykernel)",
      "language": "python",
      "name": "python3"
    },
    "language_info": {
      "codemirror_mode": {
        "name": "ipython",
        "version": 3
      },
      "file_extension": ".py",
      "mimetype": "text/x-python",
      "name": "python",
      "nbconvert_exporter": "python",
      "pygments_lexer": "ipython3",
      "version": "3.9.9"
    },
    "colab": {
      "name": "House-Price_Keras.ipynb",
      "provenance": [],
      "toc_visible": true,
      "include_colab_link": true
    }
  },
  "nbformat": 4,
  "nbformat_minor": 5
}