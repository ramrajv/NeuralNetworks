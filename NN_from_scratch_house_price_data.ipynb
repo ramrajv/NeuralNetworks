{
  "cells": [
    {
      "cell_type": "markdown",
      "metadata": {
        "id": "view-in-github",
        "colab_type": "text"
      },
      "source": [
        "<a href=\"https://colab.research.google.com/github/ramrajv/NeuralNetworks/blob/main/NN_from_scratch_house_price_data.ipynb\" target=\"_parent\"><img src=\"https://colab.research.google.com/assets/colab-badge.svg\" alt=\"Open In Colab\"/></a>"
      ]
    },
    {
      "cell_type": "code",
      "execution_count": 1,
      "id": "911dae06-d967-45e5-afde-ff00761e6f52",
      "metadata": {
        "id": "911dae06-d967-45e5-afde-ff00761e6f52"
      },
      "outputs": [],
      "source": [
        "import tensorflow as tf\n",
        "import pandas as pd\n",
        "import numpy as np\n",
        "from sklearn.preprocessing import StandardScaler\n",
        "from sklearn.metrics import accuracy_score"
      ]
    },
    {
      "cell_type": "markdown",
      "id": "09133cf8-90f1-4695-a669-fb05f8501f4d",
      "metadata": {
        "id": "09133cf8-90f1-4695-a669-fb05f8501f4d"
      },
      "source": [
        "### Part 1: Import the Housing data and do feature transformations"
      ]
    },
    {
      "cell_type": "code",
      "execution_count": 2,
      "id": "f7efcf68-b2ca-4cb8-8c11-490ca1a745d5",
      "metadata": {
        "colab": {
          "base_uri": "https://localhost:8080/",
          "height": 206
        },
        "id": "f7efcf68-b2ca-4cb8-8c11-490ca1a745d5",
        "outputId": "717dc257-e772-4460-9e6b-79e5b635f5af"
      },
      "outputs": [
        {
          "output_type": "execute_result",
          "data": {
            "text/plain": [
              "   bedrooms  sqft_living    price\n",
              "0         3         1340   313000\n",
              "1         5         3650  2384000\n",
              "2         3         1930   342000\n",
              "3         3         2000   420000\n",
              "4         4         1940   550000"
            ],
            "text/html": [
              "\n",
              "  <div id=\"df-8f2951d2-a9e3-4d8f-b358-c9bc30a348ea\">\n",
              "    <div class=\"colab-df-container\">\n",
              "      <div>\n",
              "<style scoped>\n",
              "    .dataframe tbody tr th:only-of-type {\n",
              "        vertical-align: middle;\n",
              "    }\n",
              "\n",
              "    .dataframe tbody tr th {\n",
              "        vertical-align: top;\n",
              "    }\n",
              "\n",
              "    .dataframe thead th {\n",
              "        text-align: right;\n",
              "    }\n",
              "</style>\n",
              "<table border=\"1\" class=\"dataframe\">\n",
              "  <thead>\n",
              "    <tr style=\"text-align: right;\">\n",
              "      <th></th>\n",
              "      <th>bedrooms</th>\n",
              "      <th>sqft_living</th>\n",
              "      <th>price</th>\n",
              "    </tr>\n",
              "  </thead>\n",
              "  <tbody>\n",
              "    <tr>\n",
              "      <th>0</th>\n",
              "      <td>3</td>\n",
              "      <td>1340</td>\n",
              "      <td>313000</td>\n",
              "    </tr>\n",
              "    <tr>\n",
              "      <th>1</th>\n",
              "      <td>5</td>\n",
              "      <td>3650</td>\n",
              "      <td>2384000</td>\n",
              "    </tr>\n",
              "    <tr>\n",
              "      <th>2</th>\n",
              "      <td>3</td>\n",
              "      <td>1930</td>\n",
              "      <td>342000</td>\n",
              "    </tr>\n",
              "    <tr>\n",
              "      <th>3</th>\n",
              "      <td>3</td>\n",
              "      <td>2000</td>\n",
              "      <td>420000</td>\n",
              "    </tr>\n",
              "    <tr>\n",
              "      <th>4</th>\n",
              "      <td>4</td>\n",
              "      <td>1940</td>\n",
              "      <td>550000</td>\n",
              "    </tr>\n",
              "  </tbody>\n",
              "</table>\n",
              "</div>\n",
              "      <button class=\"colab-df-convert\" onclick=\"convertToInteractive('df-8f2951d2-a9e3-4d8f-b358-c9bc30a348ea')\"\n",
              "              title=\"Convert this dataframe to an interactive table.\"\n",
              "              style=\"display:none;\">\n",
              "        \n",
              "  <svg xmlns=\"http://www.w3.org/2000/svg\" height=\"24px\"viewBox=\"0 0 24 24\"\n",
              "       width=\"24px\">\n",
              "    <path d=\"M0 0h24v24H0V0z\" fill=\"none\"/>\n",
              "    <path d=\"M18.56 5.44l.94 2.06.94-2.06 2.06-.94-2.06-.94-.94-2.06-.94 2.06-2.06.94zm-11 1L8.5 8.5l.94-2.06 2.06-.94-2.06-.94L8.5 2.5l-.94 2.06-2.06.94zm10 10l.94 2.06.94-2.06 2.06-.94-2.06-.94-.94-2.06-.94 2.06-2.06.94z\"/><path d=\"M17.41 7.96l-1.37-1.37c-.4-.4-.92-.59-1.43-.59-.52 0-1.04.2-1.43.59L10.3 9.45l-7.72 7.72c-.78.78-.78 2.05 0 2.83L4 21.41c.39.39.9.59 1.41.59.51 0 1.02-.2 1.41-.59l7.78-7.78 2.81-2.81c.8-.78.8-2.07 0-2.86zM5.41 20L4 18.59l7.72-7.72 1.47 1.35L5.41 20z\"/>\n",
              "  </svg>\n",
              "      </button>\n",
              "      \n",
              "  <style>\n",
              "    .colab-df-container {\n",
              "      display:flex;\n",
              "      flex-wrap:wrap;\n",
              "      gap: 12px;\n",
              "    }\n",
              "\n",
              "    .colab-df-convert {\n",
              "      background-color: #E8F0FE;\n",
              "      border: none;\n",
              "      border-radius: 50%;\n",
              "      cursor: pointer;\n",
              "      display: none;\n",
              "      fill: #1967D2;\n",
              "      height: 32px;\n",
              "      padding: 0 0 0 0;\n",
              "      width: 32px;\n",
              "    }\n",
              "\n",
              "    .colab-df-convert:hover {\n",
              "      background-color: #E2EBFA;\n",
              "      box-shadow: 0px 1px 2px rgba(60, 64, 67, 0.3), 0px 1px 3px 1px rgba(60, 64, 67, 0.15);\n",
              "      fill: #174EA6;\n",
              "    }\n",
              "\n",
              "    [theme=dark] .colab-df-convert {\n",
              "      background-color: #3B4455;\n",
              "      fill: #D2E3FC;\n",
              "    }\n",
              "\n",
              "    [theme=dark] .colab-df-convert:hover {\n",
              "      background-color: #434B5C;\n",
              "      box-shadow: 0px 1px 3px 1px rgba(0, 0, 0, 0.15);\n",
              "      filter: drop-shadow(0px 1px 2px rgba(0, 0, 0, 0.3));\n",
              "      fill: #FFFFFF;\n",
              "    }\n",
              "  </style>\n",
              "\n",
              "      <script>\n",
              "        const buttonEl =\n",
              "          document.querySelector('#df-8f2951d2-a9e3-4d8f-b358-c9bc30a348ea button.colab-df-convert');\n",
              "        buttonEl.style.display =\n",
              "          google.colab.kernel.accessAllowed ? 'block' : 'none';\n",
              "\n",
              "        async function convertToInteractive(key) {\n",
              "          const element = document.querySelector('#df-8f2951d2-a9e3-4d8f-b358-c9bc30a348ea');\n",
              "          const dataTable =\n",
              "            await google.colab.kernel.invokeFunction('convertToInteractive',\n",
              "                                                     [key], {});\n",
              "          if (!dataTable) return;\n",
              "\n",
              "          const docLinkHtml = 'Like what you see? Visit the ' +\n",
              "            '<a target=\"_blank\" href=https://colab.research.google.com/notebooks/data_table.ipynb>data table notebook</a>'\n",
              "            + ' to learn more about interactive tables.';\n",
              "          element.innerHTML = '';\n",
              "          dataTable['output_type'] = 'display_data';\n",
              "          await google.colab.output.renderOutput(dataTable, element);\n",
              "          const docLink = document.createElement('div');\n",
              "          docLink.innerHTML = docLinkHtml;\n",
              "          element.appendChild(docLink);\n",
              "        }\n",
              "      </script>\n",
              "    </div>\n",
              "  </div>\n",
              "  "
            ]
          },
          "metadata": {},
          "execution_count": 2
        }
      ],
      "source": [
        "url = 'https://raw.githubusercontent.com/ramrajv/NeuralNetworks/main/house_price_full.csv'\n",
        "df= pd.read_csv(url)\n",
        "df.head()"
      ]
    },
    {
      "cell_type": "code",
      "execution_count": 3,
      "id": "85fd63b2-defd-4ba3-b042-9afc73d18a99",
      "metadata": {
        "id": "85fd63b2-defd-4ba3-b042-9afc73d18a99"
      },
      "outputs": [],
      "source": [
        "X = df.copy()\n",
        "# Remove target\n",
        "Y = X.pop('price')\n",
        "\n",
        "# perform a scaler transform of the input data\n",
        "scaler = StandardScaler()\n",
        "X = scaler.fit_transform(X)\n",
        "\n",
        "# perform log transformation of target variable (For Sandeep: Is this needed?)\n",
        "Y = np.log(Y)"
      ]
    },
    {
      "cell_type": "code",
      "execution_count": 4,
      "id": "95196b58-d932-456a-aa16-f9763822259f",
      "metadata": {
        "colab": {
          "base_uri": "https://localhost:8080/",
          "height": 424
        },
        "id": "95196b58-d932-456a-aa16-f9763822259f",
        "outputId": "25db7f49-665a-470b-9e9a-d2fd2cdf1ba7"
      },
      "outputs": [
        {
          "output_type": "execute_result",
          "data": {
            "text/plain": [
              "            0         1\n",
              "0   -0.433198 -0.753258\n",
              "1    1.675735  1.457330\n",
              "2   -0.433198 -0.188649\n",
              "3   -0.433198 -0.121661\n",
              "4    0.621269 -0.179079\n",
              "..        ...       ...\n",
              "494  0.621269  0.873582\n",
              "495  1.675735  2.299459\n",
              "496 -0.433198 -0.724549\n",
              "497 -0.433198 -0.179079\n",
              "498 -0.433198 -1.040347\n",
              "\n",
              "[499 rows x 2 columns]"
            ],
            "text/html": [
              "\n",
              "  <div id=\"df-5d7a995a-0de1-4754-9e7d-b9103a0aaf02\">\n",
              "    <div class=\"colab-df-container\">\n",
              "      <div>\n",
              "<style scoped>\n",
              "    .dataframe tbody tr th:only-of-type {\n",
              "        vertical-align: middle;\n",
              "    }\n",
              "\n",
              "    .dataframe tbody tr th {\n",
              "        vertical-align: top;\n",
              "    }\n",
              "\n",
              "    .dataframe thead th {\n",
              "        text-align: right;\n",
              "    }\n",
              "</style>\n",
              "<table border=\"1\" class=\"dataframe\">\n",
              "  <thead>\n",
              "    <tr style=\"text-align: right;\">\n",
              "      <th></th>\n",
              "      <th>0</th>\n",
              "      <th>1</th>\n",
              "    </tr>\n",
              "  </thead>\n",
              "  <tbody>\n",
              "    <tr>\n",
              "      <th>0</th>\n",
              "      <td>-0.433198</td>\n",
              "      <td>-0.753258</td>\n",
              "    </tr>\n",
              "    <tr>\n",
              "      <th>1</th>\n",
              "      <td>1.675735</td>\n",
              "      <td>1.457330</td>\n",
              "    </tr>\n",
              "    <tr>\n",
              "      <th>2</th>\n",
              "      <td>-0.433198</td>\n",
              "      <td>-0.188649</td>\n",
              "    </tr>\n",
              "    <tr>\n",
              "      <th>3</th>\n",
              "      <td>-0.433198</td>\n",
              "      <td>-0.121661</td>\n",
              "    </tr>\n",
              "    <tr>\n",
              "      <th>4</th>\n",
              "      <td>0.621269</td>\n",
              "      <td>-0.179079</td>\n",
              "    </tr>\n",
              "    <tr>\n",
              "      <th>...</th>\n",
              "      <td>...</td>\n",
              "      <td>...</td>\n",
              "    </tr>\n",
              "    <tr>\n",
              "      <th>494</th>\n",
              "      <td>0.621269</td>\n",
              "      <td>0.873582</td>\n",
              "    </tr>\n",
              "    <tr>\n",
              "      <th>495</th>\n",
              "      <td>1.675735</td>\n",
              "      <td>2.299459</td>\n",
              "    </tr>\n",
              "    <tr>\n",
              "      <th>496</th>\n",
              "      <td>-0.433198</td>\n",
              "      <td>-0.724549</td>\n",
              "    </tr>\n",
              "    <tr>\n",
              "      <th>497</th>\n",
              "      <td>-0.433198</td>\n",
              "      <td>-0.179079</td>\n",
              "    </tr>\n",
              "    <tr>\n",
              "      <th>498</th>\n",
              "      <td>-0.433198</td>\n",
              "      <td>-1.040347</td>\n",
              "    </tr>\n",
              "  </tbody>\n",
              "</table>\n",
              "<p>499 rows × 2 columns</p>\n",
              "</div>\n",
              "      <button class=\"colab-df-convert\" onclick=\"convertToInteractive('df-5d7a995a-0de1-4754-9e7d-b9103a0aaf02')\"\n",
              "              title=\"Convert this dataframe to an interactive table.\"\n",
              "              style=\"display:none;\">\n",
              "        \n",
              "  <svg xmlns=\"http://www.w3.org/2000/svg\" height=\"24px\"viewBox=\"0 0 24 24\"\n",
              "       width=\"24px\">\n",
              "    <path d=\"M0 0h24v24H0V0z\" fill=\"none\"/>\n",
              "    <path d=\"M18.56 5.44l.94 2.06.94-2.06 2.06-.94-2.06-.94-.94-2.06-.94 2.06-2.06.94zm-11 1L8.5 8.5l.94-2.06 2.06-.94-2.06-.94L8.5 2.5l-.94 2.06-2.06.94zm10 10l.94 2.06.94-2.06 2.06-.94-2.06-.94-.94-2.06-.94 2.06-2.06.94z\"/><path d=\"M17.41 7.96l-1.37-1.37c-.4-.4-.92-.59-1.43-.59-.52 0-1.04.2-1.43.59L10.3 9.45l-7.72 7.72c-.78.78-.78 2.05 0 2.83L4 21.41c.39.39.9.59 1.41.59.51 0 1.02-.2 1.41-.59l7.78-7.78 2.81-2.81c.8-.78.8-2.07 0-2.86zM5.41 20L4 18.59l7.72-7.72 1.47 1.35L5.41 20z\"/>\n",
              "  </svg>\n",
              "      </button>\n",
              "      \n",
              "  <style>\n",
              "    .colab-df-container {\n",
              "      display:flex;\n",
              "      flex-wrap:wrap;\n",
              "      gap: 12px;\n",
              "    }\n",
              "\n",
              "    .colab-df-convert {\n",
              "      background-color: #E8F0FE;\n",
              "      border: none;\n",
              "      border-radius: 50%;\n",
              "      cursor: pointer;\n",
              "      display: none;\n",
              "      fill: #1967D2;\n",
              "      height: 32px;\n",
              "      padding: 0 0 0 0;\n",
              "      width: 32px;\n",
              "    }\n",
              "\n",
              "    .colab-df-convert:hover {\n",
              "      background-color: #E2EBFA;\n",
              "      box-shadow: 0px 1px 2px rgba(60, 64, 67, 0.3), 0px 1px 3px 1px rgba(60, 64, 67, 0.15);\n",
              "      fill: #174EA6;\n",
              "    }\n",
              "\n",
              "    [theme=dark] .colab-df-convert {\n",
              "      background-color: #3B4455;\n",
              "      fill: #D2E3FC;\n",
              "    }\n",
              "\n",
              "    [theme=dark] .colab-df-convert:hover {\n",
              "      background-color: #434B5C;\n",
              "      box-shadow: 0px 1px 3px 1px rgba(0, 0, 0, 0.15);\n",
              "      filter: drop-shadow(0px 1px 2px rgba(0, 0, 0, 0.3));\n",
              "      fill: #FFFFFF;\n",
              "    }\n",
              "  </style>\n",
              "\n",
              "      <script>\n",
              "        const buttonEl =\n",
              "          document.querySelector('#df-5d7a995a-0de1-4754-9e7d-b9103a0aaf02 button.colab-df-convert');\n",
              "        buttonEl.style.display =\n",
              "          google.colab.kernel.accessAllowed ? 'block' : 'none';\n",
              "\n",
              "        async function convertToInteractive(key) {\n",
              "          const element = document.querySelector('#df-5d7a995a-0de1-4754-9e7d-b9103a0aaf02');\n",
              "          const dataTable =\n",
              "            await google.colab.kernel.invokeFunction('convertToInteractive',\n",
              "                                                     [key], {});\n",
              "          if (!dataTable) return;\n",
              "\n",
              "          const docLinkHtml = 'Like what you see? Visit the ' +\n",
              "            '<a target=\"_blank\" href=https://colab.research.google.com/notebooks/data_table.ipynb>data table notebook</a>'\n",
              "            + ' to learn more about interactive tables.';\n",
              "          element.innerHTML = '';\n",
              "          dataTable['output_type'] = 'display_data';\n",
              "          await google.colab.output.renderOutput(dataTable, element);\n",
              "          const docLink = document.createElement('div');\n",
              "          docLink.innerHTML = docLinkHtml;\n",
              "          element.appendChild(docLink);\n",
              "        }\n",
              "      </script>\n",
              "    </div>\n",
              "  </div>\n",
              "  "
            ]
          },
          "metadata": {},
          "execution_count": 4
        }
      ],
      "source": [
        "df_scaled = pd.DataFrame(X)\n",
        "df_scaled"
      ]
    },
    {
      "cell_type": "code",
      "execution_count": 5,
      "id": "4059a87f-e14b-462c-8fc2-0d8171cea2cc",
      "metadata": {
        "colab": {
          "base_uri": "https://localhost:8080/"
        },
        "id": "4059a87f-e14b-462c-8fc2-0d8171cea2cc",
        "outputId": "b7ea7734-3f49-4fde-9bfc-fe1851c894c8"
      },
      "outputs": [
        {
          "output_type": "execute_result",
          "data": {
            "text/plain": [
              "0      12.653958\n",
              "1      14.684290\n",
              "2      12.742566\n",
              "3      12.948010\n",
              "4      13.217674\n",
              "         ...    \n",
              "494    13.380102\n",
              "495    13.764217\n",
              "496    12.128111\n",
              "497    12.721886\n",
              "498    12.254863\n",
              "Name: price, Length: 499, dtype: float64"
            ]
          },
          "metadata": {},
          "execution_count": 5
        }
      ],
      "source": [
        "Y"
      ]
    },
    {
      "cell_type": "code",
      "execution_count": 6,
      "id": "7c6c4da9-aa2b-46a2-acaa-cb900ac2b024",
      "metadata": {
        "id": "7c6c4da9-aa2b-46a2-acaa-cb900ac2b024"
      },
      "outputs": [],
      "source": [
        "#Taking 1 sample: x0,x1\n",
        "x1, x2 = df_scaled.iloc[0]"
      ]
    },
    {
      "cell_type": "code",
      "execution_count": 7,
      "id": "bd37b5c7-9e4c-4919-ba3a-3718132eddf2",
      "metadata": {
        "colab": {
          "base_uri": "https://localhost:8080/"
        },
        "id": "bd37b5c7-9e4c-4919-ba3a-3718132eddf2",
        "outputId": "a8729ae3-760a-48c0-e739-9b89ff92ca11"
      },
      "outputs": [
        {
          "output_type": "execute_result",
          "data": {
            "text/plain": [
              "<tf.Tensor: shape=(1, 2), dtype=float32, numpy=array([[-0.43319765, -0.7532575 ]], dtype=float32)>"
            ]
          },
          "metadata": {},
          "execution_count": 7
        }
      ],
      "source": [
        "x = tf.constant([[x1,x2]], dtype=tf.float32)\n",
        "x"
      ]
    },
    {
      "cell_type": "markdown",
      "id": "c919a12a-a45a-4cdb-b359-f75127de1f0b",
      "metadata": {
        "id": "c919a12a-a45a-4cdb-b359-f75127de1f0b"
      },
      "source": [
        "### Part2: Forward Propagation with a single Neuron\n",
        "\n",
        "The simplest way to describe a neural network is that we have some inputs , which get combined into an auxilliary variable . The auxilliary variable is passed through the activation function  and the result is the output.\n",
        "\n",
        "Here is another image showing each step.\n",
        "![](neuron.png)\n",
        "Notice that the inputs are linearly combined according to some weights  and a bias . This transformation is also sometimes called an affine transformation. The perceptron transforms the weighted inputs according to the rule of the activation function. For a single perceptron, the output  is just the output from the perceptron. The linear transformation and activation of the neuron occurs within a single layer of the network (shown in the dotted box).\n",
        "\n",
        "Let's see what the single-layer, single neuron network give us. We have a couple of choices to make:\n",
        "\n",
        "We must choose some weights and some biases\n",
        "We must choose an activation function\n",
        "For now, we will manually specify the weights and biases.\n",
        "\n",
        "We choose a sigmoid activation function"
      ]
    },
    {
      "cell_type": "code",
      "execution_count": 8,
      "id": "d22f12ae-177d-43ba-8afa-62e62afe6bb0",
      "metadata": {
        "id": "d22f12ae-177d-43ba-8afa-62e62afe6bb0"
      },
      "outputs": [],
      "source": [
        "#weights\n",
        "w1 = tf.Variable([0.2], dtype=tf.float32)\n",
        "w2 = tf.Variable([0.15], dtype=tf.float32)\n",
        "#bias\n",
        "b = tf.Variable([0.1], dtype=tf.float32)"
      ]
    },
    {
      "cell_type": "code",
      "execution_count": 9,
      "id": "f2e7b9c3-4f70-46dc-a6bc-b75a83803e67",
      "metadata": {
        "colab": {
          "base_uri": "https://localhost:8080/"
        },
        "id": "f2e7b9c3-4f70-46dc-a6bc-b75a83803e67",
        "outputId": "892c9a9a-743d-4ff9-84df-cf96f9aba6cd"
      },
      "outputs": [
        {
          "output_type": "stream",
          "name": "stdout",
          "text": [
            "The output from the first neuron is tf.Tensor([0.47511354], shape=(1,), dtype=float32)\n"
          ]
        }
      ],
      "source": [
        "#Cumulative input\n",
        "z = b + w1*x1 +w2*x2\n",
        "h = tf.math.sigmoid(z)\n",
        "print(\"The output from the first neuron is\",h)"
      ]
    },
    {
      "cell_type": "markdown",
      "id": "a34f3985-fe07-439f-a6ef-4b6ffbba1f1c",
      "metadata": {
        "id": "a34f3985-fe07-439f-a6ef-4b6ffbba1f1c"
      },
      "source": [
        "### Part3: Forward Propagation with multiple neurons\n",
        "\n",
        "![](multiple_neurons.png)"
      ]
    },
    {
      "cell_type": "code",
      "execution_count": 10,
      "id": "a708032a-8898-4c75-8a6b-19708e5db798",
      "metadata": {
        "id": "a708032a-8898-4c75-8a6b-19708e5db798"
      },
      "outputs": [],
      "source": [
        "## layer1 weights\n",
        "# neuron1\n",
        "b1 = tf.Variable([0.1])\n",
        "w11 = tf.Variable([0.2])\n",
        "w12 = tf.Variable([0.15])\n",
        "#neuron2\n",
        "b2 = tf.Variable([0.25])\n",
        "w21 = tf.Variable([0.5])\n",
        "w22 = tf.Variable([0.6])\n"
      ]
    },
    {
      "cell_type": "code",
      "execution_count": 11,
      "id": "df953e00-859b-4559-94c9-9ac7b128fa5c",
      "metadata": {
        "colab": {
          "base_uri": "https://localhost:8080/"
        },
        "id": "df953e00-859b-4559-94c9-9ac7b128fa5c",
        "outputId": "adb2fba2-aee0-4967-d542-e47fcf2cfc6a"
      },
      "outputs": [
        {
          "output_type": "stream",
          "name": "stdout",
          "text": [
            "The output from the first neuron is tf.Tensor([0.47511354], shape=(1,), dtype=float32)\n"
          ]
        }
      ],
      "source": [
        "## forward pass\n",
        "# neuron 1\n",
        "z1 = b1+w11*x1+w12*x2\n",
        "h1 = tf.math.sigmoid(z1)\n",
        "print(\"The output from the first neuron is\",h1)"
      ]
    },
    {
      "cell_type": "code",
      "execution_count": 12,
      "id": "383503a1-fdcf-4f53-a0ee-03077dd6f5ca",
      "metadata": {
        "colab": {
          "base_uri": "https://localhost:8080/"
        },
        "id": "383503a1-fdcf-4f53-a0ee-03077dd6f5ca",
        "outputId": "30ab02fd-ef92-40d4-ebf2-5fa21defbc73"
      },
      "outputs": [
        {
          "output_type": "stream",
          "name": "stdout",
          "text": [
            "The output from the second neuron is tf.Tensor([0.39686298], shape=(1,), dtype=float32)\n"
          ]
        }
      ],
      "source": [
        "## forward pass\n",
        "# neuron 2\n",
        "z2 = b2+w21*x1+w22*x2\n",
        "h2 = tf.math.sigmoid(z2)\n",
        "print(\"The output from the second neuron is\",h2)"
      ]
    },
    {
      "cell_type": "code",
      "execution_count": 13,
      "id": "3156f647-fd4f-4f6a-aa6c-158dfd7f1e8b",
      "metadata": {
        "id": "3156f647-fd4f-4f6a-aa6c-158dfd7f1e8b"
      },
      "outputs": [],
      "source": [
        "## layer2 weights\n",
        "b1 = tf.Variable([0.4])\n",
        "w11 = tf.Variable([0.3])\n",
        "w12 = tf.Variable([0.2])"
      ]
    },
    {
      "cell_type": "code",
      "execution_count": 14,
      "id": "81be3f6c-a1bd-42d3-9576-c325f90804b4",
      "metadata": {
        "colab": {
          "base_uri": "https://localhost:8080/"
        },
        "id": "81be3f6c-a1bd-42d3-9576-c325f90804b4",
        "outputId": "35bb6547-f978-4494-cf22-526e39d422b6"
      },
      "outputs": [
        {
          "output_type": "stream",
          "name": "stdout",
          "text": [
            "The output from the first neuron is tf.Tensor([0.62190664], shape=(1,), dtype=float32)\n"
          ]
        }
      ],
      "source": [
        "## forward pass\n",
        "# second layer\n",
        "z1 = b1+w11*h1+w12*h2\n",
        "h1 = z1\n",
        "print(\"The output from the first neuron is\",h1)"
      ]
    },
    {
      "cell_type": "code",
      "execution_count": 15,
      "id": "2668ce90-6f54-4f40-9bbe-ea6f0db4bff4",
      "metadata": {
        "id": "2668ce90-6f54-4f40-9bbe-ea6f0db4bff4"
      },
      "outputs": [],
      "source": [
        "y_true = Y[0]\n",
        "y_pred = h1.numpy()"
      ]
    },
    {
      "cell_type": "code",
      "execution_count": 16,
      "id": "320dc2df-3489-4cb8-aa27-3162426357ac",
      "metadata": {
        "colab": {
          "base_uri": "https://localhost:8080/"
        },
        "id": "320dc2df-3489-4cb8-aa27-3162426357ac",
        "outputId": "e5ac4cb6-29a5-4ab5-e8d1-7a2abefc547c"
      },
      "outputs": [
        {
          "output_type": "stream",
          "name": "stdout",
          "text": [
            "The MSE error is [72.38514]\n"
          ]
        }
      ],
      "source": [
        "#loss\n",
        "L = 0.5*(y_true - y_pred)**2\n",
        "print(\"The MSE error is\",L)"
      ]
    },
    {
      "cell_type": "markdown",
      "id": "8442d282-5547-46e2-8a9d-d5769bb99dab",
      "metadata": {
        "id": "8442d282-5547-46e2-8a9d-d5769bb99dab"
      },
      "source": [
        "## Part 4: Forward pass matrix multiplication\n",
        "![](multiple_neurons.png)\n",
        "\n",
        "![](Matrix.gif)\n",
        "\n",
        "This network can be described as follows:\n",
        "\n",
        "- Input vector = $X = (x1,x2)$\n",
        "- Weight Matrix (hidden layer) = $$W^1 = \\begin{bmatrix}\n",
        "w^1_{11}&&w^1_{12}\\\\\n",
        "w^1_{21}&&w^1_{22}\\\\\n",
        "\\end{bmatrix}\n",
        "$$\n",
        "*note the subscripts are being mapped to weights in the figure\n",
        "\n",
        "- Bias/offset Matrix (hidden layer) = $$\n",
        "B^1_0 = \\begin{bmatrix}\n",
        "b^1_{1}\\\\\n",
        "b^1_{2}\\\\\n",
        "\\end{bmatrix}\n",
        "$$\n",
        "\n",
        "Now the forward pass for the hidden layer can be described as \n",
        "\n",
        "$$W^1 \\times X^T + B^1_0= Z^1 = \\begin{bmatrix}\n",
        "z^1_{1}\\\\\n",
        "z^1_{2}\\\\\n",
        "\\end{bmatrix}\n",
        "$$\n",
        "\n",
        "Applying the activation function $f$ over the matrix $Z$ will complete the forward pass.\n",
        "\n",
        "$$f(W^1 \\times X^T + B^1_0)= f(Z^1) = f(\\begin{bmatrix}\n",
        "z^1_{1}\\\\\n",
        "z^1_{2}\\\\\n",
        "\\end{bmatrix}) = \n",
        "\\begin{bmatrix}\n",
        "f(z^1_{1})\\\\\n",
        "f(z^1_{2})\\\\\n",
        "\\end{bmatrix}\n",
        "=\n",
        "\\begin{bmatrix}\n",
        "h^1_1\\\\\n",
        "h^1_2\\\\\n",
        "\\end{bmatrix}\n",
        "= H^1\n",
        "$$\n",
        "\n",
        "For the output layer:\n",
        "\n",
        "- The weight matrix is $$W^2 = \\begin{bmatrix}\n",
        "w^2_{11}&&w^2_{12}\\\\\n",
        "\\end{bmatrix}\n",
        "$$\n",
        "\n",
        "- The bias/offset matrix is $$B^2_0 = \\begin{bmatrix}\n",
        "b^2_{1}\\\\\n",
        "\\end{bmatrix}\n",
        "$$\n",
        "\n",
        "Now the forward pass can be written as:\n",
        "\n",
        "\n",
        "$$ B_0^2+W^2 \\times H^1$$\n"
      ]
    },
    {
      "cell_type": "code",
      "execution_count": 17,
      "id": "21fab65a-f968-421e-80fa-86cb280685c6",
      "metadata": {
        "id": "21fab65a-f968-421e-80fa-86cb280685c6"
      },
      "outputs": [],
      "source": [
        "## layer 1 weights\n",
        "W1 = tf.Variable([[0.2, 0.15],\n",
        "                     [0.5, 0.6]], dtype=tf.float32)\n",
        "## layer 1 bias\n",
        "B1 = tf.Variable([[0.1],\n",
        "                [0.25]], dtype=tf.float32)"
      ]
    },
    {
      "cell_type": "code",
      "execution_count": 18,
      "id": "0f3cc3e1-574a-47dc-84c4-d66bf18b35bd",
      "metadata": {
        "id": "0f3cc3e1-574a-47dc-84c4-d66bf18b35bd"
      },
      "outputs": [],
      "source": [
        "## layer 2 weights\n",
        "W2 = tf.Variable([[0.3, 0.2]], dtype=tf.float32)\n",
        "#bias\n",
        "B2 = tf.Variable([0.4], dtype=tf.float32)"
      ]
    },
    {
      "cell_type": "code",
      "execution_count": 19,
      "id": "095a917a-2901-4dd5-9ca2-80c0d997a9ec",
      "metadata": {
        "id": "095a917a-2901-4dd5-9ca2-80c0d997a9ec"
      },
      "outputs": [],
      "source": [
        "## data\n",
        "X = tf.constant([[x1,x2]], dtype=tf.float32)"
      ]
    },
    {
      "cell_type": "code",
      "execution_count": 20,
      "id": "00f72506-52a9-43d5-9a06-5ebb270891bf",
      "metadata": {
        "colab": {
          "base_uri": "https://localhost:8080/"
        },
        "id": "00f72506-52a9-43d5-9a06-5ebb270891bf",
        "outputId": "df908d15-d534-4713-fdd4-35f8532703c6"
      },
      "outputs": [
        {
          "output_type": "stream",
          "name": "stdout",
          "text": [
            "tf.Tensor(\n",
            "[[0.47511354]\n",
            " [0.39686298]], shape=(2, 1), dtype=float32)\n"
          ]
        }
      ],
      "source": [
        "## forward pass layer 1\n",
        "Z1 = tf.matmul(W1, tf.transpose(X)) + B1\n",
        "H1 = tf.math.sigmoid(Z1)\n",
        "print(H1)"
      ]
    },
    {
      "cell_type": "code",
      "execution_count": 21,
      "id": "028e2e88-6417-47a1-9cee-ddb4f2b874f8",
      "metadata": {
        "id": "028e2e88-6417-47a1-9cee-ddb4f2b874f8"
      },
      "outputs": [],
      "source": [
        "## forward pass layer 2\n",
        "Z2 = tf.matmul(W2,H1)+B2"
      ]
    },
    {
      "cell_type": "code",
      "execution_count": 22,
      "id": "2e00bbaa-8b6f-4e6a-b43d-fc0a851e7739",
      "metadata": {
        "colab": {
          "base_uri": "https://localhost:8080/"
        },
        "id": "2e00bbaa-8b6f-4e6a-b43d-fc0a851e7739",
        "outputId": "5a93fed3-bd6c-4c7a-8b1e-69578bf8d142"
      },
      "outputs": [
        {
          "output_type": "execute_result",
          "data": {
            "text/plain": [
              "<tf.Tensor: shape=(1, 1), dtype=float32, numpy=array([[0.62190664]], dtype=float32)>"
            ]
          },
          "metadata": {},
          "execution_count": 22
        }
      ],
      "source": [
        "Z2"
      ]
    },
    {
      "cell_type": "code",
      "execution_count": 23,
      "id": "5ffd39a5-e9eb-47b5-9ac7-925c16acd3ec",
      "metadata": {
        "colab": {
          "base_uri": "https://localhost:8080/"
        },
        "id": "5ffd39a5-e9eb-47b5-9ac7-925c16acd3ec",
        "outputId": "668b7293-e10e-4d8d-dc36-b3a4d54e55a9"
      },
      "outputs": [
        {
          "output_type": "stream",
          "name": "stdout",
          "text": [
            "[[72.38514]]\n"
          ]
        }
      ],
      "source": [
        "y_pred = Z2.numpy()\n",
        "loss = 0.5*(y_true-y_pred)**2\n",
        "print(loss)"
      ]
    },
    {
      "cell_type": "markdown",
      "id": "8d35c31e-38e1-4c4f-aae9-6862e38063a8",
      "metadata": {
        "id": "8d35c31e-38e1-4c4f-aae9-6862e38063a8"
      },
      "source": [
        "## Part5: Random Weight Initialization\n",
        "\n",
        "![](multiple_neurons.png)"
      ]
    },
    {
      "cell_type": "code",
      "execution_count": 24,
      "id": "d4f13145-94d3-40c3-a010-b5085660bfad",
      "metadata": {
        "id": "d4f13145-94d3-40c3-a010-b5085660bfad"
      },
      "outputs": [],
      "source": [
        "def random_init_params():\n",
        "    w1 = tf.Variable(tf.random.uniform((2, 2)))\n",
        "    b1 = tf.Variable(tf.random.uniform((1, 2)))\n",
        "    w2 = tf.Variable(tf.random.uniform((2, 1)))\n",
        "    b2 = tf.Variable(tf.random.uniform((1, 1)))\n",
        "    return w1,b1,w2,b2"
      ]
    },
    {
      "cell_type": "code",
      "execution_count": 25,
      "id": "d62f7eab-49b0-4594-b5b4-37e6088c9a3b",
      "metadata": {
        "id": "d62f7eab-49b0-4594-b5b4-37e6088c9a3b"
      },
      "outputs": [],
      "source": [
        "x = tf.constant([[x1,x2]], dtype=tf.float32)\n",
        "y = Y[0]\n",
        "w1,b1,w2,b2 = random_init_params()"
      ]
    },
    {
      "cell_type": "code",
      "execution_count": 26,
      "id": "27c5870a-6e1f-41e7-a90b-5fa693b81df7",
      "metadata": {
        "colab": {
          "base_uri": "https://localhost:8080/"
        },
        "id": "27c5870a-6e1f-41e7-a90b-5fa693b81df7",
        "outputId": "de403b30-501c-4016-a055-f03c4e850752"
      },
      "outputs": [
        {
          "output_type": "stream",
          "name": "stdout",
          "text": [
            " the initial 1st layer weights are:\n",
            " [[0.5995095  0.15918195]\n",
            " [0.32564735 0.31624126]]\n",
            "--------------------------------------------------\n",
            " the initial 2nd layer weights are:\n",
            " [[0.27917945]\n",
            " [0.40427375]]\n",
            "--------------------------------------------------\n",
            " the initial 1st layer bias are:\n",
            " [[0.06151271 0.9206878 ]]\n",
            "--------------------------------------------------\n",
            " the initial 2nd layer bias are:\n",
            " [[0.7236538]]\n"
          ]
        }
      ],
      "source": [
        "print(\" the initial 1st layer weights are:\\n\",w1.numpy())\n",
        "print(\"--------------------------------------------------\")\n",
        "print(\" the initial 2nd layer weights are:\\n\",w2.numpy())\n",
        "print(\"--------------------------------------------------\")\n",
        "print(\" the initial 1st layer bias are:\\n\",b1.numpy())\n",
        "print(\"--------------------------------------------------\")\n",
        "print(\" the initial 2nd layer bias are:\\n\",b2.numpy())"
      ]
    },
    {
      "cell_type": "code",
      "execution_count": 27,
      "id": "ab9abe7a-f3d9-49bb-be50-bb38a51a1700",
      "metadata": {
        "id": "ab9abe7a-f3d9-49bb-be50-bb38a51a1700"
      },
      "outputs": [],
      "source": [
        "def forward_prop(x, w1, b1, w2, b2):\n",
        "    z1 = tf.matmul(x,w1) + b1\n",
        "    h1 = tf.math.sigmoid(z1)\n",
        "    z2 = tf.matmul(h1,w2) + b2\n",
        "    h2 = z2\n",
        "    return h2"
      ]
    },
    {
      "cell_type": "code",
      "execution_count": 28,
      "id": "f29e7996-476d-429d-9af4-59205bf21db1",
      "metadata": {
        "colab": {
          "base_uri": "https://localhost:8080/"
        },
        "id": "f29e7996-476d-429d-9af4-59205bf21db1",
        "outputId": "258b636b-1c08-4440-f44d-f3d7a5026c3d"
      },
      "outputs": [
        {
          "output_type": "stream",
          "name": "stdout",
          "text": [
            "The MSE error is tf.Tensor([[66.80409]], shape=(1, 1), dtype=float32)\n"
          ]
        }
      ],
      "source": [
        "y_pred = forward_prop(x, w1, b1, w2, b2)\n",
        "#loss\n",
        "L = 0.5*(y - y_pred)**2\n",
        "print(\"The MSE error is\",L)"
      ]
    },
    {
      "cell_type": "markdown",
      "id": "844f9c21-ff86-4767-8d91-1d6a399789c1",
      "metadata": {
        "id": "844f9c21-ff86-4767-8d91-1d6a399789c1"
      },
      "source": [
        "## Part6: Backpropagation\n",
        "\n",
        "Find the value of x that minimises $y = x^2+4x$\n",
        "\n",
        "Gradient descent update equation\n",
        "\n",
        "$x_{new} := x_{old}-\\eta\\frac{dy}{dx}$"
      ]
    },
    {
      "cell_type": "code",
      "execution_count": 29,
      "id": "423c86c8-bf03-495e-8972-e69247822584",
      "metadata": {
        "id": "423c86c8-bf03-495e-8972-e69247822584"
      },
      "outputs": [],
      "source": [
        "x = tf.Variable(0.0) ## add gradient tape\n",
        "lr = eta = 0.1"
      ]
    },
    {
      "cell_type": "code",
      "execution_count": 30,
      "id": "98fe645c-fb0e-4257-84e0-9a47b3a81b4d",
      "metadata": {
        "id": "98fe645c-fb0e-4257-84e0-9a47b3a81b4d"
      },
      "outputs": [],
      "source": [
        "with tf.GradientTape() as tape:\n",
        "    y = x**2+4*x\n",
        "grad = tape.gradient(y,x) ## dy/dx"
      ]
    },
    {
      "cell_type": "code",
      "execution_count": 31,
      "id": "529b973d-6a0d-424b-9b19-3c44b3e05672",
      "metadata": {
        "colab": {
          "base_uri": "https://localhost:8080/"
        },
        "id": "529b973d-6a0d-424b-9b19-3c44b3e05672",
        "outputId": "d2b38b1e-3b8d-4be1-c05b-7b0c23dc1ba4"
      },
      "outputs": [
        {
          "output_type": "execute_result",
          "data": {
            "text/plain": [
              "4.0"
            ]
          },
          "metadata": {},
          "execution_count": 31
        }
      ],
      "source": [
        "grad.numpy() #dy/dx = 2x+4, x=0 => dy/dx = 4"
      ]
    },
    {
      "cell_type": "code",
      "execution_count": 32,
      "id": "7f9b9642-3290-41a6-a4ce-eeb20b412594",
      "metadata": {
        "colab": {
          "base_uri": "https://localhost:8080/"
        },
        "id": "7f9b9642-3290-41a6-a4ce-eeb20b412594",
        "outputId": "707cef04-0df8-4dc8-edee-1d2b7b520b13"
      },
      "outputs": [
        {
          "output_type": "execute_result",
          "data": {
            "text/plain": [
              "<tf.Variable 'UnreadVariable' shape=() dtype=float32, numpy=-0.4>"
            ]
          },
          "metadata": {},
          "execution_count": 32
        }
      ],
      "source": [
        "x.assign_sub(lr*grad) ## x_new = x_old -lr*dy/dx"
      ]
    },
    {
      "cell_type": "code",
      "execution_count": 33,
      "id": "76ffc91d-4154-40d4-8c8e-f46a76c3847f",
      "metadata": {
        "colab": {
          "base_uri": "https://localhost:8080/"
        },
        "id": "76ffc91d-4154-40d4-8c8e-f46a76c3847f",
        "outputId": "91f5b3c3-c85b-4dfd-9f03-08808753cc4e"
      },
      "outputs": [
        {
          "output_type": "execute_result",
          "data": {
            "text/plain": [
              "-0.4"
            ]
          },
          "metadata": {},
          "execution_count": 33
        }
      ],
      "source": [
        "x.numpy()"
      ]
    },
    {
      "cell_type": "code",
      "execution_count": 34,
      "id": "ca154ab8-599c-4ca6-8254-ad4f7fe8a472",
      "metadata": {
        "colab": {
          "base_uri": "https://localhost:8080/"
        },
        "id": "ca154ab8-599c-4ca6-8254-ad4f7fe8a472",
        "outputId": "83d0c556-e430-44d8-da60-8bd12ea73803"
      },
      "outputs": [
        {
          "output_type": "stream",
          "name": "stdout",
          "text": [
            "-0.4\n",
            "-0.72\n",
            "-0.9760001\n",
            "-1.1808001\n",
            "-1.34464\n",
            "-1.4757121\n",
            "-1.5805696\n",
            "-1.6644557\n",
            "-1.7315645\n",
            "-1.7852516\n"
          ]
        }
      ],
      "source": [
        "## full loop\n",
        "x = tf.Variable(0.0) ## add gradient tape\n",
        "lr = eta = 0.1\n",
        "for i in range(10):\n",
        "    with tf.GradientTape() as tape:\n",
        "        y = x**2+4*x\n",
        "    grad = tape.gradient(y,x)\n",
        "    x.assign_sub(lr*grad)\n",
        "    print(x.numpy())"
      ]
    },
    {
      "cell_type": "markdown",
      "id": "b25dc73f-f2e2-47e9-be8a-495ca52658e3",
      "metadata": {
        "id": "b25dc73f-f2e2-47e9-be8a-495ca52658e3"
      },
      "source": [
        "\n",
        "![](gradients.png)"
      ]
    },
    {
      "cell_type": "code",
      "execution_count": 35,
      "id": "6797e506-2b65-4a8d-8f5c-24defd7411a8",
      "metadata": {
        "id": "6797e506-2b65-4a8d-8f5c-24defd7411a8"
      },
      "outputs": [],
      "source": [
        "x = tf.constant([[x1,x2]], dtype=tf.float32)\n",
        "y = Y[0]\n",
        "\n",
        "def random_init_params():\n",
        "    w1 = tf.Variable(tf.random.uniform((2, 2)))\n",
        "    b1 = tf.Variable(tf.random.uniform((1, 2)))\n",
        "    w2 = tf.Variable(tf.random.uniform((2, 1)))\n",
        "    b2 = tf.Variable(tf.random.uniform((1, 1)))\n",
        "    return w1,b1,w2,b2\n",
        "\n",
        "def forward_prop(x, w1, b1, w2, b2):\n",
        "    z1 = tf.matmul(x,w1) + b1\n",
        "    h1 = tf.math.sigmoid(z1)\n",
        "    z2 = tf.matmul(h1,w2) + b2\n",
        "    h2 = z2\n",
        "    return h2"
      ]
    },
    {
      "cell_type": "code",
      "execution_count": 36,
      "id": "b0dd8c3e-473b-4a06-be20-b4230d0fc027",
      "metadata": {
        "id": "b0dd8c3e-473b-4a06-be20-b4230d0fc027"
      },
      "outputs": [],
      "source": [
        "w1,b1,w2,b2 = random_init_params()"
      ]
    },
    {
      "cell_type": "code",
      "execution_count": 37,
      "id": "66195d4a-d966-4ecd-977f-678177f8b6fe",
      "metadata": {
        "id": "66195d4a-d966-4ecd-977f-678177f8b6fe"
      },
      "outputs": [],
      "source": [
        "with tf.GradientTape() as tape:\n",
        "    y_pred = forward_prop(x,w1,b1,w2,b2)\n",
        "    loss = 0.5*(y-y_pred)**2"
      ]
    },
    {
      "cell_type": "code",
      "execution_count": 38,
      "id": "4a83bfbc-f1ba-4ca9-bfb4-cb8b5aa6fd26",
      "metadata": {
        "id": "4a83bfbc-f1ba-4ca9-bfb4-cb8b5aa6fd26"
      },
      "outputs": [],
      "source": [
        "gw1, gb1, gw2, gb2 = tape.gradient(loss, [w1, b1, w2, b2])"
      ]
    },
    {
      "cell_type": "code",
      "execution_count": 39,
      "id": "c1e63266-99eb-4650-9034-0ce23e0beb12",
      "metadata": {
        "colab": {
          "base_uri": "https://localhost:8080/"
        },
        "id": "c1e63266-99eb-4650-9034-0ce23e0beb12",
        "outputId": "54b6d9b2-7ae0-4746-df5d-63364f367239"
      },
      "outputs": [
        {
          "output_type": "execute_result",
          "data": {
            "text/plain": [
              "<tf.Tensor: shape=(2, 2), dtype=float32, numpy=\n",
              "array([[0.5114944 , 0.6398326 ],\n",
              "       [0.88940233, 1.1125607 ]], dtype=float32)>"
            ]
          },
          "metadata": {},
          "execution_count": 39
        }
      ],
      "source": [
        "gw1"
      ]
    },
    {
      "cell_type": "code",
      "execution_count": 40,
      "id": "b202f6b6-99e4-457e-8c9e-3abb11840bbc",
      "metadata": {
        "colab": {
          "base_uri": "https://localhost:8080/"
        },
        "id": "b202f6b6-99e4-457e-8c9e-3abb11840bbc",
        "outputId": "a1abf1bb-91da-4b8a-d09f-5e32476e4ff7"
      },
      "outputs": [
        {
          "output_type": "execute_result",
          "data": {
            "text/plain": [
              "<tf.Tensor: shape=(1, 2), dtype=float32, numpy=array([[-1.1807414, -1.4769993]], dtype=float32)>"
            ]
          },
          "metadata": {},
          "execution_count": 40
        }
      ],
      "source": [
        "gb1"
      ]
    },
    {
      "cell_type": "code",
      "execution_count": 41,
      "id": "95600402-76fa-44b5-9d05-9e71c4ebbb8c",
      "metadata": {
        "colab": {
          "base_uri": "https://localhost:8080/"
        },
        "id": "95600402-76fa-44b5-9d05-9e71c4ebbb8c",
        "outputId": "802473af-8015-437d-fe31-fd13503a61e8"
      },
      "outputs": [
        {
          "output_type": "execute_result",
          "data": {
            "text/plain": [
              "<tf.Tensor: shape=(2, 1), dtype=float32, numpy=\n",
              "array([[-6.6767163],\n",
              "       [-5.4373107]], dtype=float32)>"
            ]
          },
          "metadata": {},
          "execution_count": 41
        }
      ],
      "source": [
        "gw2"
      ]
    },
    {
      "cell_type": "code",
      "execution_count": 42,
      "id": "880ad697-3224-4527-ad47-84eb6ae09815",
      "metadata": {
        "colab": {
          "base_uri": "https://localhost:8080/"
        },
        "id": "880ad697-3224-4527-ad47-84eb6ae09815",
        "outputId": "3130ae82-c4b7-4ce9-a11e-a2d1f1b37b1a"
      },
      "outputs": [
        {
          "output_type": "execute_result",
          "data": {
            "text/plain": [
              "<tf.Tensor: shape=(1, 1), dtype=float32, numpy=array([[-12.12444]], dtype=float32)>"
            ]
          },
          "metadata": {},
          "execution_count": 42
        }
      ],
      "source": [
        "gb2"
      ]
    },
    {
      "cell_type": "code",
      "execution_count": 43,
      "id": "1d34744a-69df-45c8-a158-00c128f42a59",
      "metadata": {
        "colab": {
          "base_uri": "https://localhost:8080/"
        },
        "id": "1d34744a-69df-45c8-a158-00c128f42a59",
        "outputId": "155878cc-6bd0-467c-e3c5-f15ee8d1b344"
      },
      "outputs": [
        {
          "output_type": "stream",
          "name": "stdout",
          "text": [
            "Value of w1 before gradient update is <tf.Variable 'Variable:0' shape=(2, 2) dtype=float32, numpy=\n",
            "array([[0.6452012 , 0.42464042],\n",
            "       [0.3525933 , 0.23675203]], dtype=float32)>\n",
            "Value of w1 after gradient update is <tf.Variable 'Variable:0' shape=(2, 2) dtype=float32, numpy=\n",
            "array([[0.64008623, 0.4182421 ],\n",
            "       [0.34369928, 0.22562642]], dtype=float32)>\n"
          ]
        }
      ],
      "source": [
        "lr=0.01\n",
        "print(f\"Value of w1 before gradient update is {w1}\")\n",
        "w1.assign_sub(lr*gw1)\n",
        "print(f\"Value of w1 after gradient update is {w1}\")"
      ]
    },
    {
      "cell_type": "code",
      "execution_count": 44,
      "id": "fe8bb25d-b7aa-4bd7-9765-28731e5944d3",
      "metadata": {
        "colab": {
          "base_uri": "https://localhost:8080/"
        },
        "id": "fe8bb25d-b7aa-4bd7-9765-28731e5944d3",
        "outputId": "d7748f05-52e1-4d3b-8311-0820966f3d12"
      },
      "outputs": [
        {
          "output_type": "stream",
          "name": "stdout",
          "text": [
            "Value of b1 before gradient update is <tf.Variable 'Variable:0' shape=(1, 2) dtype=float32, numpy=array([[0.7485217 , 0.15538836]], dtype=float32)>\n",
            "Value of w1 after gradient update is <tf.Variable 'Variable:0' shape=(1, 2) dtype=float32, numpy=array([[0.7603291 , 0.17015834]], dtype=float32)>\n"
          ]
        }
      ],
      "source": [
        "lr=0.01\n",
        "print(f\"Value of b1 before gradient update is {b1}\")\n",
        "b1.assign_sub(lr*gb1)\n",
        "print(f\"Value of w1 after gradient update is {b1}\")"
      ]
    },
    {
      "cell_type": "code",
      "execution_count": 45,
      "id": "809b9b9e-acea-48dd-8386-c40eb3b20a8e",
      "metadata": {
        "id": "809b9b9e-acea-48dd-8386-c40eb3b20a8e"
      },
      "outputs": [],
      "source": [
        "def train(x, y, w1, b1, w2, b2):\n",
        "    y_true = y\n",
        "    with tf.GradientTape() as g:\n",
        "        y_pred = forward_prop(x, w1, b1, w2, b2)\n",
        "\n",
        "        # loss\n",
        "        loss = 0.5*(y_true - y_pred)** 2\n",
        "    \n",
        "    #Gradient calculation  \n",
        "    print(\"**************************************************\")\n",
        "    print(\"GRADIENTS\")\n",
        "    print(\"**************************************************\")\n",
        "    gw1, gb1, gw2, gb2 = g.gradient(loss, [w1, b1, w2, b2])\n",
        "    print(\" the gradient for 1st layer weights are:\\n\",gw1.numpy())\n",
        "    print(\"--------------------------------------------------\")\n",
        "    print(\" the gradient for 2nd layer weights are:\\n\",gw2.numpy())\n",
        "    print(\"--------------------------------------------------\")\n",
        "    print(\" the gradient for 1st layer bias are:\\n\",gb1.numpy())\n",
        "    print(\"--------------------------------------------------\")\n",
        "    print(\" the gradient for 2nd layer bias are:\\n\",gb2.numpy())\n",
        "    print(\"--------------------------------------------------\")\n",
        "\n",
        "    # Gradient descent:\n",
        "    lr=0.2\n",
        "    w1.assign_sub(lr*gw1)\n",
        "    b1.assign_sub(lr*gb1) \n",
        "    w2.assign_sub(lr*gw2)\n",
        "    b2.assign_sub(lr*gb2)\n",
        "    print(\"**************************************************\")\n",
        "    print(\"NEW UPDATES\")\n",
        "    print(\"**************************************************\")\n",
        "    print(\" the updated 1st layer weights are:\\n\",w1.numpy())\n",
        "    print(\"--------------------------------------------------\")\n",
        "    print(\" the updated 2nd layer weights are:\\n\",w2.numpy())\n",
        "    print(\"--------------------------------------------------\")\n",
        "    print(\" the updated 1st layer bias are:\\n\",b1.numpy())\n",
        "    print(\"--------------------------------------------------\")\n",
        "    print(\" the updated 2nd layer bias are:\\n\",b2.numpy())\n",
        "\n",
        "\n",
        "    return w1, b1, w2, b2,loss"
      ]
    },
    {
      "cell_type": "code",
      "execution_count": 46,
      "id": "8c176262-1ea8-447b-b714-c30041457cd7",
      "metadata": {
        "colab": {
          "base_uri": "https://localhost:8080/"
        },
        "id": "8c176262-1ea8-447b-b714-c30041457cd7",
        "outputId": "a27d0306-b797-4e6a-8543-c89c78a64256"
      },
      "outputs": [
        {
          "output_type": "stream",
          "name": "stdout",
          "text": [
            "**************************************************\n",
            "GRADIENTS\n",
            "**************************************************\n",
            " the gradient for 1st layer weights are:\n",
            " [[0.3993887  0.2331134 ]\n",
            " [0.69446945 0.40534478]]\n",
            "--------------------------------------------------\n",
            " the gradient for 2nd layer weights are:\n",
            " [[-7.1737003]\n",
            " [-4.5176196]]\n",
            "--------------------------------------------------\n",
            " the gradient for 1st layer bias are:\n",
            " [[-0.92195493 -0.5381225 ]]\n",
            "--------------------------------------------------\n",
            " the gradient for 2nd layer bias are:\n",
            " [[-11.512608]]\n",
            "--------------------------------------------------\n",
            "**************************************************\n",
            "NEW UPDATES\n",
            "**************************************************\n",
            " the updated 1st layer weights are:\n",
            " [[0.16083634 0.04556449]\n",
            " [0.17461939 0.5104242 ]]\n",
            "--------------------------------------------------\n",
            " the updated 2nd layer weights are:\n",
            " [[1.7757443]\n",
            " [1.09957  ]]\n",
            "--------------------------------------------------\n",
            " the updated 1st layer bias are:\n",
            " [[1.0276232 0.1558977]]\n",
            "--------------------------------------------------\n",
            " the updated 2nd layer bias are:\n",
            " [[3.1544569]]\n"
          ]
        }
      ],
      "source": [
        "w1,b1,w2,b2 = random_init_params()\n",
        "w1, b1, w2, b2,loss = train(x, y, w1, b1, w2, b2)"
      ]
    },
    {
      "cell_type": "code",
      "execution_count": null,
      "id": "37c8d3c6-de91-4a19-926a-6bd7b85720b0",
      "metadata": {
        "id": "37c8d3c6-de91-4a19-926a-6bd7b85720b0"
      },
      "outputs": [],
      "source": [
        ""
      ]
    }
  ],
  "metadata": {
    "kernelspec": {
      "display_name": "Python 3",
      "language": "python",
      "name": "python3"
    },
    "language_info": {
      "codemirror_mode": {
        "name": "ipython",
        "version": 3
      },
      "file_extension": ".py",
      "mimetype": "text/x-python",
      "name": "python",
      "nbconvert_exporter": "python",
      "pygments_lexer": "ipython3",
      "version": "3.9.9"
    },
    "colab": {
      "name": "NN_from_scratch_house_price_data.ipynb",
      "provenance": [],
      "toc_visible": true,
      "include_colab_link": true
    }
  },
  "nbformat": 4,
  "nbformat_minor": 5
}