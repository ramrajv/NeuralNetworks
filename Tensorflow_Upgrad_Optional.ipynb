{
  "nbformat": 4,
  "nbformat_minor": 0,
  "metadata": {
    "colab": {
      "name": "Tensorflow_Upgrad_Optional.ipynb",
      "provenance": [],
      "toc_visible": true,
      "authorship_tag": "ABX9TyP9lzWwtyJKSixF924wYYWx",
      "include_colab_link": true
    },
    "kernelspec": {
      "name": "python3",
      "display_name": "Python 3"
    },
    "language_info": {
      "name": "python"
    }
  },
  "cells": [
    {
      "cell_type": "markdown",
      "metadata": {
        "id": "view-in-github",
        "colab_type": "text"
      },
      "source": [
        "<a href=\"https://colab.research.google.com/github/ramrajv/NeuralNetworks/blob/main/Tensorflow_Upgrad_Optional.ipynb\" target=\"_parent\"><img src=\"https://colab.research.google.com/assets/colab-badge.svg\" alt=\"Open In Colab\"/></a>"
      ]
    },
    {
      "cell_type": "code",
      "execution_count": 4,
      "metadata": {
        "id": "DL5kdDytGh9z"
      },
      "outputs": [],
      "source": [
        "import tensorflow as tf\n",
        "import numpy as np"
      ]
    },
    {
      "cell_type": "markdown",
      "source": [
        "## Question 1/2\n",
        "\n",
        "### Libraries in TensorFlow\n",
        "Consider the following Boolean matrix:\n",
        "\n",
        "q = [[True, False], [True, False]]\n",
        "Which of the following codes will produce a result like the one shown above? \n",
        "\n",
        "p = [[True, False],[False, False]]\n",
        "Hint: You will need to explore the TensorFlow library to gain more understanding of the functions used in the following options"
      ],
      "metadata": {
        "id": "AcC0LDK5GtkF"
      }
    },
    {
      "cell_type": "code",
      "source": [
        "q = tf.Variable([[True, False], [True, False]])\n",
        "r = tf.Variable([[True, True], [False, True]])\n",
        "p=tf.math.logical_and(q,r)\n",
        "print(p)"
      ],
      "metadata": {
        "colab": {
          "base_uri": "https://localhost:8080/"
        },
        "id": "Lw5RrRGRGnx0",
        "outputId": "2eedf36e-3e93-4945-eb58-432eaf9ddb96"
      },
      "execution_count": 2,
      "outputs": [
        {
          "output_type": "stream",
          "name": "stdout",
          "text": [
            "tf.Tensor(\n",
            "[[ True False]\n",
            " [False False]], shape=(2, 2), dtype=bool)\n"
          ]
        }
      ]
    },
    {
      "cell_type": "markdown",
      "source": [
        "## Question 2/2\n",
        "\n",
        "### Reshaping Tensors\n",
        "Use TensorFlow to complete this task. \n",
        "\n",
        "Task: Convert the tensor 'p' given in the cell below into a cube tensor of rank 3.\n",
        "\n",
        "p = tf.Variable(np.random.randn(1,64))\n",
        "(Note: More than one option can be correct.)"
      ],
      "metadata": {
        "id": "1YWhHq_GG4Jf"
      }
    },
    {
      "cell_type": "code",
      "source": [
        "p = tf.Variable(np.random.randn(1,64))\n",
        "reshaped_p = tf.reshape(p, (8,8,1))\n",
        "print(reshaped_p)"
      ],
      "metadata": {
        "colab": {
          "base_uri": "https://localhost:8080/"
        },
        "id": "YxG_pYNYGxvC",
        "outputId": "24f018db-938f-4862-ba5c-1bf678d7d494"
      },
      "execution_count": 5,
      "outputs": [
        {
          "output_type": "stream",
          "name": "stdout",
          "text": [
            "tf.Tensor(\n",
            "[[[ 1.16221138]\n",
            "  [ 0.80614682]\n",
            "  [ 0.27504032]\n",
            "  [-0.29658786]\n",
            "  [ 1.08290885]\n",
            "  [-1.09702616]\n",
            "  [-0.59657741]\n",
            "  [ 0.22968351]]\n",
            "\n",
            " [[-0.07610691]\n",
            "  [ 0.45900602]\n",
            "  [-0.86208158]\n",
            "  [-0.31168607]\n",
            "  [ 0.59027215]\n",
            "  [-0.24033494]\n",
            "  [ 1.48692071]\n",
            "  [ 0.52293323]]\n",
            "\n",
            " [[ 0.56737852]\n",
            "  [-0.80591461]\n",
            "  [ 0.21702825]\n",
            "  [-0.71104861]\n",
            "  [ 0.58710716]\n",
            "  [-1.27156263]\n",
            "  [-1.19857883]\n",
            "  [ 1.38847184]]\n",
            "\n",
            " [[-0.98953653]\n",
            "  [-0.78299981]\n",
            "  [ 2.18921726]\n",
            "  [ 1.54421916]\n",
            "  [ 1.5305066 ]\n",
            "  [-1.28086073]\n",
            "  [ 2.31988343]\n",
            "  [-0.50405456]]\n",
            "\n",
            " [[-0.514213  ]\n",
            "  [ 1.00762079]\n",
            "  [ 0.30351509]\n",
            "  [-1.06769039]\n",
            "  [ 0.27000234]\n",
            "  [-1.59531063]\n",
            "  [-1.10439876]\n",
            "  [ 0.275032  ]]\n",
            "\n",
            " [[-0.05950485]\n",
            "  [-0.43121099]\n",
            "  [-0.67757309]\n",
            "  [-0.29537562]\n",
            "  [-0.85793679]\n",
            "  [-0.28913992]\n",
            "  [-1.16336595]\n",
            "  [ 0.31835729]]\n",
            "\n",
            " [[ 0.55263161]\n",
            "  [-0.21645467]\n",
            "  [-0.52667892]\n",
            "  [ 1.14673374]\n",
            "  [-0.00531444]\n",
            "  [-0.30647242]\n",
            "  [ 1.42481426]\n",
            "  [-0.57809768]]\n",
            "\n",
            " [[ 0.34900209]\n",
            "  [ 2.31437667]\n",
            "  [-0.01108027]\n",
            "  [ 0.21145963]\n",
            "  [-0.91433977]\n",
            "  [-0.53363234]\n",
            "  [ 0.62250672]\n",
            "  [-1.10617814]]], shape=(8, 8, 1), dtype=float64)\n"
          ]
        }
      ]
    },
    {
      "cell_type": "code",
      "source": [
        "reshaped_p = tf.reshape(p, (4,4,4))\n",
        "print(reshaped_p)"
      ],
      "metadata": {
        "colab": {
          "base_uri": "https://localhost:8080/"
        },
        "id": "0GQxaFt7HKQ8",
        "outputId": "3eccb5f5-804b-4763-c7dc-1ddd21be775c"
      },
      "execution_count": 7,
      "outputs": [
        {
          "output_type": "stream",
          "name": "stdout",
          "text": [
            "tf.Tensor(\n",
            "[[[ 1.16221138  0.80614682  0.27504032 -0.29658786]\n",
            "  [ 1.08290885 -1.09702616 -0.59657741  0.22968351]\n",
            "  [-0.07610691  0.45900602 -0.86208158 -0.31168607]\n",
            "  [ 0.59027215 -0.24033494  1.48692071  0.52293323]]\n",
            "\n",
            " [[ 0.56737852 -0.80591461  0.21702825 -0.71104861]\n",
            "  [ 0.58710716 -1.27156263 -1.19857883  1.38847184]\n",
            "  [-0.98953653 -0.78299981  2.18921726  1.54421916]\n",
            "  [ 1.5305066  -1.28086073  2.31988343 -0.50405456]]\n",
            "\n",
            " [[-0.514213    1.00762079  0.30351509 -1.06769039]\n",
            "  [ 0.27000234 -1.59531063 -1.10439876  0.275032  ]\n",
            "  [-0.05950485 -0.43121099 -0.67757309 -0.29537562]\n",
            "  [-0.85793679 -0.28913992 -1.16336595  0.31835729]]\n",
            "\n",
            " [[ 0.55263161 -0.21645467 -0.52667892  1.14673374]\n",
            "  [-0.00531444 -0.30647242  1.42481426 -0.57809768]\n",
            "  [ 0.34900209  2.31437667 -0.01108027  0.21145963]\n",
            "  [-0.91433977 -0.53363234  0.62250672 -1.10617814]]], shape=(4, 4, 4), dtype=float64)\n"
          ]
        }
      ]
    },
    {
      "cell_type": "code",
      "source": [
        "reshaped_p = tf.reshape(p, (1,1,64))\n",
        "print(reshaped_p)"
      ],
      "metadata": {
        "colab": {
          "base_uri": "https://localhost:8080/"
        },
        "id": "ri5LzfHuHdEW",
        "outputId": "ca844f35-1017-483c-a2c2-f1697cdd73a7"
      },
      "execution_count": 8,
      "outputs": [
        {
          "output_type": "stream",
          "name": "stdout",
          "text": [
            "tf.Tensor(\n",
            "[[[ 1.16221138  0.80614682  0.27504032 -0.29658786  1.08290885\n",
            "   -1.09702616 -0.59657741  0.22968351 -0.07610691  0.45900602\n",
            "   -0.86208158 -0.31168607  0.59027215 -0.24033494  1.48692071\n",
            "    0.52293323  0.56737852 -0.80591461  0.21702825 -0.71104861\n",
            "    0.58710716 -1.27156263 -1.19857883  1.38847184 -0.98953653\n",
            "   -0.78299981  2.18921726  1.54421916  1.5305066  -1.28086073\n",
            "    2.31988343 -0.50405456 -0.514213    1.00762079  0.30351509\n",
            "   -1.06769039  0.27000234 -1.59531063 -1.10439876  0.275032\n",
            "   -0.05950485 -0.43121099 -0.67757309 -0.29537562 -0.85793679\n",
            "   -0.28913992 -1.16336595  0.31835729  0.55263161 -0.21645467\n",
            "   -0.52667892  1.14673374 -0.00531444 -0.30647242  1.42481426\n",
            "   -0.57809768  0.34900209  2.31437667 -0.01108027  0.21145963\n",
            "   -0.91433977 -0.53363234  0.62250672 -1.10617814]]], shape=(1, 1, 64), dtype=float64)\n"
          ]
        }
      ]
    },
    {
      "cell_type": "code",
      "source": [
        ""
      ],
      "metadata": {
        "id": "4td5kH9CHkTO"
      },
      "execution_count": null,
      "outputs": []
    }
  ]
}