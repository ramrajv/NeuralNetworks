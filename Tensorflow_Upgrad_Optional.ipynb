{
  "nbformat": 4,
  "nbformat_minor": 0,
  "metadata": {
    "colab": {
      "name": "Tensorflow_Upgrad_Optional.ipynb",
      "provenance": [],
      "authorship_tag": "ABX9TyN2i/gWB52ceG26NNp4S9xD",
      "include_colab_link": true
    },
    "kernelspec": {
      "name": "python3",
      "display_name": "Python 3"
    },
    "language_info": {
      "name": "python"
    }
  },
  "cells": [
    {
      "cell_type": "markdown",
      "metadata": {
        "id": "view-in-github",
        "colab_type": "text"
      },
      "source": [
        "<a href=\"https://colab.research.google.com/github/ramrajv/NeuralNetworks/blob/main/Tensorflow_Upgrad_Optional.ipynb\" target=\"_parent\"><img src=\"https://colab.research.google.com/assets/colab-badge.svg\" alt=\"Open In Colab\"/></a>"
      ]
    },
    {
      "cell_type": "code",
      "execution_count": 1,
      "metadata": {
        "id": "DL5kdDytGh9z"
      },
      "outputs": [],
      "source": [
        "import tensorflow as tf\n",
        "import numpy as np"
      ]
    },
    {
      "cell_type": "markdown",
      "source": [
        "## Question 1/2\n",
        "\n",
        "### Libraries in TensorFlow\n",
        "Consider the following Boolean matrix:\n",
        "\n",
        "q = [[True, False], [True, False]]\n",
        "Which of the following codes will produce a result like the one shown above? \n",
        "\n",
        "p = [[True, False],[False, False]]\n",
        "Hint: You will need to explore the TensorFlow library to gain more understanding of the functions used in the following options"
      ],
      "metadata": {
        "id": "AcC0LDK5GtkF"
      }
    },
    {
      "cell_type": "code",
      "source": [
        "q = tf.Variable([[True, False], [True, False]])\n",
        "r = tf.Variable([[True, True], [False, True]])\n",
        "p=tf.math.logical_and(q,r)\n",
        "print(p)"
      ],
      "metadata": {
        "colab": {
          "base_uri": "https://localhost:8080/"
        },
        "id": "Lw5RrRGRGnx0",
        "outputId": "4e4fcfcf-e7aa-42c3-b216-4a3ef2442edb"
      },
      "execution_count": 2,
      "outputs": [
        {
          "output_type": "stream",
          "name": "stdout",
          "text": [
            "tf.Tensor(\n",
            "[[ True False]\n",
            " [False False]], shape=(2, 2), dtype=bool)\n"
          ]
        }
      ]
    },
    {
      "cell_type": "markdown",
      "source": [
        "## Question 2/2\n",
        "\n",
        "### Reshaping Tensors\n",
        "Use TensorFlow to complete this task. \n",
        "\n",
        "Task: Convert the tensor 'p' given in the cell below into a cube tensor of rank 3.\n",
        "\n",
        "p = tf.Variable(np.random.randn(1,64))\n",
        "(Note: More than one option can be correct.)"
      ],
      "metadata": {
        "id": "1YWhHq_GG4Jf"
      }
    },
    {
      "cell_type": "code",
      "source": [
        "p = tf.Variable(np.random.randn(1,64))\n",
        "reshaped_p = tf.reshape(p, (8,8,1))\n",
        "print(reshaped_p)"
      ],
      "metadata": {
        "colab": {
          "base_uri": "https://localhost:8080/"
        },
        "id": "YxG_pYNYGxvC",
        "outputId": "c7ad622a-5675-4807-f478-5c65d62f7d9f"
      },
      "execution_count": 3,
      "outputs": [
        {
          "output_type": "stream",
          "name": "stdout",
          "text": [
            "tf.Tensor(\n",
            "[[[ 0.42123401]\n",
            "  [ 0.74342721]\n",
            "  [-0.229582  ]\n",
            "  [-2.12240776]\n",
            "  [-0.3406986 ]\n",
            "  [ 1.01825564]\n",
            "  [ 1.11145046]\n",
            "  [-0.18419785]]\n",
            "\n",
            " [[ 0.74670832]\n",
            "  [ 1.23538167]\n",
            "  [-0.00931121]\n",
            "  [-0.24677722]\n",
            "  [ 1.00860754]\n",
            "  [-0.33800604]\n",
            "  [-1.33739354]\n",
            "  [-0.7236611 ]]\n",
            "\n",
            " [[ 0.01901151]\n",
            "  [ 0.20952925]\n",
            "  [-0.18226726]\n",
            "  [-0.53651702]\n",
            "  [-0.2283657 ]\n",
            "  [-0.49532884]\n",
            "  [-0.69983769]\n",
            "  [-1.71084424]]\n",
            "\n",
            " [[ 0.77162496]\n",
            "  [ 2.19420639]\n",
            "  [-0.34649937]\n",
            "  [ 0.7263704 ]\n",
            "  [-1.83948425]\n",
            "  [-0.09850177]\n",
            "  [ 0.34828352]\n",
            "  [-0.65399089]]\n",
            "\n",
            " [[ 0.52840724]\n",
            "  [ 0.00345103]\n",
            "  [ 0.32861572]\n",
            "  [-0.36543828]\n",
            "  [ 0.37818797]\n",
            "  [-0.14312559]\n",
            "  [ 0.14725214]\n",
            "  [-0.94962549]]\n",
            "\n",
            " [[-0.28724339]\n",
            "  [-1.00436632]\n",
            "  [-1.22528238]\n",
            "  [ 0.50461623]\n",
            "  [ 0.35568659]\n",
            "  [-0.04398989]\n",
            "  [ 0.98649736]\n",
            "  [ 1.76040452]]\n",
            "\n",
            " [[ 0.79289378]\n",
            "  [-1.18224578]\n",
            "  [-0.38331495]\n",
            "  [ 1.81137505]\n",
            "  [ 0.61391474]\n",
            "  [ 1.5442144 ]\n",
            "  [ 0.76819371]\n",
            "  [-0.83858645]]\n",
            "\n",
            " [[ 0.11205751]\n",
            "  [ 0.47338339]\n",
            "  [-0.47080554]\n",
            "  [-0.70509664]\n",
            "  [ 1.73709265]\n",
            "  [-0.47225368]\n",
            "  [-0.45448402]\n",
            "  [ 3.12645302]]], shape=(8, 8, 1), dtype=float64)\n"
          ]
        }
      ]
    },
    {
      "cell_type": "code",
      "source": [
        "reshaped_p = tf.reshape(p, (4,4,4))\n",
        "print(reshaped_p)"
      ],
      "metadata": {
        "colab": {
          "base_uri": "https://localhost:8080/"
        },
        "id": "0GQxaFt7HKQ8",
        "outputId": "351060c3-ff57-40e0-a8c7-109be7f9fb23"
      },
      "execution_count": 4,
      "outputs": [
        {
          "output_type": "stream",
          "name": "stdout",
          "text": [
            "tf.Tensor(\n",
            "[[[ 0.42123401  0.74342721 -0.229582   -2.12240776]\n",
            "  [-0.3406986   1.01825564  1.11145046 -0.18419785]\n",
            "  [ 0.74670832  1.23538167 -0.00931121 -0.24677722]\n",
            "  [ 1.00860754 -0.33800604 -1.33739354 -0.7236611 ]]\n",
            "\n",
            " [[ 0.01901151  0.20952925 -0.18226726 -0.53651702]\n",
            "  [-0.2283657  -0.49532884 -0.69983769 -1.71084424]\n",
            "  [ 0.77162496  2.19420639 -0.34649937  0.7263704 ]\n",
            "  [-1.83948425 -0.09850177  0.34828352 -0.65399089]]\n",
            "\n",
            " [[ 0.52840724  0.00345103  0.32861572 -0.36543828]\n",
            "  [ 0.37818797 -0.14312559  0.14725214 -0.94962549]\n",
            "  [-0.28724339 -1.00436632 -1.22528238  0.50461623]\n",
            "  [ 0.35568659 -0.04398989  0.98649736  1.76040452]]\n",
            "\n",
            " [[ 0.79289378 -1.18224578 -0.38331495  1.81137505]\n",
            "  [ 0.61391474  1.5442144   0.76819371 -0.83858645]\n",
            "  [ 0.11205751  0.47338339 -0.47080554 -0.70509664]\n",
            "  [ 1.73709265 -0.47225368 -0.45448402  3.12645302]]], shape=(4, 4, 4), dtype=float64)\n"
          ]
        }
      ]
    },
    {
      "cell_type": "code",
      "source": [
        "reshaped_p = tf.reshape(p, (1,1,64))\n",
        "print(reshaped_p)"
      ],
      "metadata": {
        "colab": {
          "base_uri": "https://localhost:8080/"
        },
        "id": "ri5LzfHuHdEW",
        "outputId": "5be56c53-014c-4f06-d698-271ebfe85ba3"
      },
      "execution_count": 5,
      "outputs": [
        {
          "output_type": "stream",
          "name": "stdout",
          "text": [
            "tf.Tensor(\n",
            "[[[ 0.42123401  0.74342721 -0.229582   -2.12240776 -0.3406986\n",
            "    1.01825564  1.11145046 -0.18419785  0.74670832  1.23538167\n",
            "   -0.00931121 -0.24677722  1.00860754 -0.33800604 -1.33739354\n",
            "   -0.7236611   0.01901151  0.20952925 -0.18226726 -0.53651702\n",
            "   -0.2283657  -0.49532884 -0.69983769 -1.71084424  0.77162496\n",
            "    2.19420639 -0.34649937  0.7263704  -1.83948425 -0.09850177\n",
            "    0.34828352 -0.65399089  0.52840724  0.00345103  0.32861572\n",
            "   -0.36543828  0.37818797 -0.14312559  0.14725214 -0.94962549\n",
            "   -0.28724339 -1.00436632 -1.22528238  0.50461623  0.35568659\n",
            "   -0.04398989  0.98649736  1.76040452  0.79289378 -1.18224578\n",
            "   -0.38331495  1.81137505  0.61391474  1.5442144   0.76819371\n",
            "   -0.83858645  0.11205751  0.47338339 -0.47080554 -0.70509664\n",
            "    1.73709265 -0.47225368 -0.45448402  3.12645302]]], shape=(1, 1, 64), dtype=float64)\n"
          ]
        }
      ]
    },
    {
      "cell_type": "markdown",
      "source": [
        "## Question 1/2\n",
        "### Gradient in TensorFlow\n",
        "What is the slope of the curve \n",
        "$y = 3x^{3}+5x^{2}−3x+10 $ at \n",
        "$x=−2? $"
      ],
      "metadata": {
        "id": "3r55rdJ4U4K9"
      }
    },
    {
      "cell_type": "code",
      "source": [
        "# initiate the variable x\n",
        "x = tf.Variable(-2.0)\n",
        "\n",
        "# Using tf.gradientslope(), perform computation and return them to tape.\n",
        "with tf.GradientTape() as tape:\n",
        "    y = 3*x**3 + 5*x**2 - 3*x + 10 # Formula as per the equation above.\n",
        "\n",
        "dy_dx = tape.gradient(y,x)\n",
        "print(dy_dx.numpy())"
      ],
      "metadata": {
        "id": "4td5kH9CHkTO",
        "colab": {
          "base_uri": "https://localhost:8080/"
        },
        "outputId": "e366aa9a-f242-49bf-8a9d-d898033c814e"
      },
      "execution_count": 7,
      "outputs": [
        {
          "output_type": "stream",
          "name": "stdout",
          "text": [
            "13.0\n"
          ]
        }
      ]
    },
    {
      "cell_type": "markdown",
      "source": [
        "### Upgrad answer"
      ],
      "metadata": {
        "id": "H6OdKiLhXGx5"
      }
    },
    {
      "cell_type": "code",
      "source": [
        "x = tf.Variable([-2], dtype=float)\n",
        "\n",
        "with tf.GradientTape() as tape:\n",
        " y = 3*tf.pow(x,3) + 5*tf.pow(x,2) - 3*x +10\n",
        "\n",
        "dy_dx = tape.gradient(y,x)\n",
        "\n",
        "print(dy_dx.numpy()[0])"
      ],
      "metadata": {
        "colab": {
          "base_uri": "https://localhost:8080/"
        },
        "id": "32J1UZ6pWzwK",
        "outputId": "c1a912b3-7d61-4233-fb81-338158f94112"
      },
      "execution_count": 8,
      "outputs": [
        {
          "output_type": "stream",
          "name": "stdout",
          "text": [
            "13.0\n"
          ]
        }
      ]
    },
    {
      "cell_type": "markdown",
      "source": [
        "## Question 2/2\n",
        "### Gradient in TensorFlow\n",
        "Consider the function given below: -\n",
        "\n",
        "$y = 3^{0.2x} + 5x^{2} - log(x) + tanh(x)$\n",
        "\n",
        "Using TensorFlow, at $x = 10$, find out whether the function is increasing or decreasing."
      ],
      "metadata": {
        "id": "HQKdXOHRXXUL"
      }
    },
    {
      "cell_type": "markdown",
      "source": [
        "### Approach\n",
        "\n",
        "For a function to increase or decrease, the slope at the point should be positive or negative respectively. So, the derivative should give slope."
      ],
      "metadata": {
        "id": "yy_NFBHMX3Vh"
      }
    },
    {
      "cell_type": "code",
      "source": [
        "# Initiate the variable x\n",
        "x = tf.Variable([10.0,11.0], dtype = float)\n",
        "\n",
        "with tf.GradientTape() as tape:\n",
        "    y = 3**(0.2*x) + 5 * tf.pow(x,2) - tf.math.log(x) + tf.math.tanh(x)\n",
        "\n",
        "dy_dx = tape.gradient(y,x)\n",
        "\n",
        "print(dy_dx.numpy())"
      ],
      "metadata": {
        "colab": {
          "base_uri": "https://localhost:8080/"
        },
        "id": "V0WV0htaXKPA",
        "outputId": "5c99bbeb-5edb-4ca0-b99a-b86c75d3a1b5"
      },
      "execution_count": 13,
      "outputs": [
        {
          "output_type": "stream",
          "name": "stdout",
          "text": [
            "[101.8775  112.37253]\n"
          ]
        }
      ]
    },
    {
      "cell_type": "markdown",
      "source": [
        "### Upgrad solution\n",
        "\n",
        "Feedback:\n",
        "A function is said to be increasing at a given point if its slope at that point is positive. Find the slope of the curve at x = 10 and check its sign. If the sign is positive, then the function is increasing. If it is negative, then the function is decreasing. Use this code to find the slope of the function at x = 10."
      ],
      "metadata": {
        "id": "nvatcxuuZhIp"
      }
    },
    {
      "cell_type": "code",
      "source": [
        "x = tf.Variable((10), dtype=tf.float32)\n",
        "with tf.GradientTape() as tape:\n",
        "  y = tf.pow(3, 0.2 * x) + 5* tf.pow(x,2) - tf.math.log(x) + tf.math.tanh (x)\n",
        "dy_dx = tape.gradient(y,x)\n",
        "print(\"The slope of the function at x = 10 is \", dy_dx.numpy())"
      ],
      "metadata": {
        "colab": {
          "base_uri": "https://localhost:8080/"
        },
        "id": "vHgKiaWmZDTz",
        "outputId": "a364e12b-c4fd-4fe3-9c3d-7df17e8e9e77"
      },
      "execution_count": 14,
      "outputs": [
        {
          "output_type": "stream",
          "name": "stdout",
          "text": [
            "The slope of the function at x = 10 is  101.8775\n"
          ]
        }
      ]
    },
    {
      "cell_type": "code",
      "source": [
        ""
      ],
      "metadata": {
        "id": "qxLN6TsBZmP-"
      },
      "execution_count": null,
      "outputs": []
    }
  ]
}